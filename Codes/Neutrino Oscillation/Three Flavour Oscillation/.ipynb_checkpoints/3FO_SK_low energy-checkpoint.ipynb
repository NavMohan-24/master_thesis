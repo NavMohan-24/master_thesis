{
 "cells": [
  {
   "cell_type": "code",
   "execution_count": 151,
   "id": "compound-clear",
   "metadata": {},
   "outputs": [],
   "source": [
    "from qiskit import*\n",
    "from qiskit.tools.visualization import*\n",
    "from numpy import*\n",
    "from matplotlib.pyplot import*"
   ]
  },
  {
   "cell_type": "code",
   "execution_count": 161,
   "id": "distributed-excitement",
   "metadata": {},
   "outputs": [],
   "source": [
    "m12=7.39*10**-5\n",
    "m13=2.525*10**-3\n",
    "m23=m13\n",
    "th12=0.5902\n",
    "th23=0.8656\n",
    "th13=0.1502\n",
    "LE=linspace(0,1000,11)#(L/E)lib.pyplot import*\n",
    "le=linspace(0,1200,121)"
   ]
  },
  {
   "cell_type": "code",
   "execution_count": 168,
   "id": "broad-stephen",
   "metadata": {},
   "outputs": [],
   "source": [
    "muon_counts=[]\n",
    "electron_counts=[]\n",
    "tau_counts=[]"
   ]
  },
  {
   "cell_type": "code",
   "execution_count": 154,
   "id": "accurate-pizza",
   "metadata": {},
   "outputs": [],
   "source": [
    "def phi_1(E):\n",
    "    return(2*(1.27*m12*E))\n",
    "def phi_2(E):\n",
    "    return(2*(1.27*m13*E))\n",
    "def prob_t(E):\n",
    "    return((cos(th13)**2)*((sin(2*th23))**2)*(sin(1.27*m23*E))**2)\n",
    "def prob_e(E):\n",
    "    return((sin(2*th13)**2)*((sin(th23))**2)*(sin(1.27*m23*E))**2) \n",
    "def prob_m(E):\n",
    "    return(1-(cos(th13)**2)*((sin(2*th23))**2)*((sin(1.27*m23*E))**2)-(sin(2*th13)**2)*((sin(th23))**2)*(sin(1.27*m23*E))**2)"
   ]
  },
  {
   "cell_type": "code",
   "execution_count": 155,
   "id": "applicable-killing",
   "metadata": {},
   "outputs": [],
   "source": [
    "alpha=-0.6031\n",
    "beta=-2.0125\n",
    "gamma=0.7966\n",
    "delta=1.0139\n",
    "eps=0.7053\n",
    "zeta=1.3599"
   ]
  },
  {
   "cell_type": "code",
   "execution_count": 156,
   "id": "quiet-confusion",
   "metadata": {},
   "outputs": [
    {
     "data": {
      "text/plain": [
       "<qiskit.circuit.gate.Gate at 0x7fbc98504390>"
      ]
     },
     "execution_count": 156,
     "metadata": {},
     "output_type": "execute_result"
    }
   ],
   "source": [
    "PMNS=QuantumCircuit(2,name='PMNS')\n",
    "PMNS.u(-1*alpha,0,0,0)\n",
    "PMNS.u(-1*beta,0,0,1)\n",
    "PMNS.cx(1,0)\n",
    "PMNS.u(-1*gamma,0,0,0)\n",
    "PMNS.u(-1*delta,0,0,1)\n",
    "PMNS.cx(1,0)\n",
    "PMNS.u(-1*eps,0,0,0)\n",
    "PMNS.u(-1*zeta,0,0,1)\n",
    "#PMNS.draw()\n",
    "PMNS.to_gate()"
   ]
  },
  {
   "cell_type": "code",
   "execution_count": 157,
   "id": "generous-reason",
   "metadata": {},
   "outputs": [
    {
     "data": {
      "text/plain": [
       "<qiskit.circuit.gate.Gate at 0x7fbc988e2b50>"
      ]
     },
     "execution_count": 157,
     "metadata": {},
     "output_type": "execute_result"
    }
   ],
   "source": [
    "PMNSd=QuantumCircuit(2,name='PMNSd')\n",
    "PMNSd.u(eps,0,0,0)\n",
    "PMNSd.u(zeta,0,0,1)\n",
    "PMNSd.cx(1,0)\n",
    "PMNSd.u(gamma,0,0,0)\n",
    "PMNSd.u(delta,0,0,1)\n",
    "PMNSd.cx(1,0)\n",
    "PMNSd.u(alpha,0,0,0)\n",
    "PMNSd.u(beta,0,0,1)\n",
    "\n",
    "#PMNSd.draw()\n",
    "PMNSd.to_gate()"
   ]
  },
  {
   "cell_type": "code",
   "execution_count": 169,
   "id": "induced-nurse",
   "metadata": {},
   "outputs": [],
   "source": [
    "qr=QuantumRegister(2)\n",
    "cr=ClassicalRegister(2)\n",
    "qc=QuantumCircuit(qr,cr)\n",
    "#circuit\n",
    "backend=BasicAer.get_backend('qasm_simulator')\n",
    "for E in LE:\n",
    "    p=phi_1(E)\n",
    "    q=phi_2(E)\n",
    "    qc.x(qr[1])\n",
    "    qc.append(PMNSd,[0,1])\n",
    "    qc.u(0,0,q,[0])\n",
    "    qc.u(0,0,p,qr[1])\n",
    "    qc.append(PMNS,[0,1])\n",
    "    qc.measure(qr[0],cr[0])\n",
    "    qc.measure(qr[1],cr[1])\n",
    "    counts=execute(qc,backend,shots=1024).result().get_counts()\n",
    "    electron_counts.append(counts.get('11',0)/1024)\n",
    "    muon_counts.append(counts.get('10',0)/1024)\n",
    "    tau_counts.append(counts.get('01',0)/1024)\n",
    "    qc.reset(qr[0])\n",
    "    qc.reset(qr[1])"
   ]
  },
  {
   "cell_type": "code",
   "execution_count": 170,
   "id": "spread-chosen",
   "metadata": {},
   "outputs": [],
   "source": [
    "AC_t=prob_t(le)\n",
    "AC_e=prob_e(le)\n",
    "AC_m=prob_m(le)"
   ]
  },
  {
   "cell_type": "code",
   "execution_count": 171,
   "id": "twenty-spectacular",
   "metadata": {
    "scrolled": false
   },
   "outputs": [
    {
     "data": {
      "text/plain": [
       "<matplotlib.legend.Legend at 0x7fbc98d95d50>"
      ]
     },
     "execution_count": 171,
     "metadata": {},
     "output_type": "execute_result"
    },
    {
     "data": {
      "image/png": "[encoded data removed]",
      "text/plain": [
       "<Figure size 432x288 with 1 Axes>"
      ]
     },
     "metadata": {
      "needs_background": "light"
     },
     "output_type": "display_data"
    }
   ],
   "source": [
    "plot(le,AC_t,'-b',label='tau')\n",
    "plot(le,AC_e,'-r',label='electron')\n",
    "plot(le,AC_m,'-y',label='muon')\n",
    "plot(LE,electron_counts,'or',label='elec-Qasm')\n",
    "plot(LE,muon_counts,'oy',label='muon-Qasm')\n",
    "plot(LE,tau_counts,'ob',label='tau-Qasm')\n",
    "legend()"
   ]
  },
  {
   "cell_type": "code",
   "execution_count": null,
   "id": "identified-guard",
   "metadata": {},
   "outputs": [],
   "source": []
  },
  {
   "cell_type": "code",
   "execution_count": null,
   "id": "nominated-queen",
   "metadata": {},
   "outputs": [],
   "source": []
  }
 ],
 "metadata": {
  "kernelspec": {
   "display_name": "Python 3",
   "language": "python",
   "name": "python3"
  },
  "language_info": {
   "codemirror_mode": {
    "name": "ipython",
    "version": 3
   },
   "file_extension": ".py",
   "mimetype": "text/x-python",
   "name": "python",
   "nbconvert_exporter": "python",
   "pygments_lexer": "ipython3",
   "version": "3.7.7"
  }
 },
 "nbformat": 4,
 "nbformat_minor": 5
}
