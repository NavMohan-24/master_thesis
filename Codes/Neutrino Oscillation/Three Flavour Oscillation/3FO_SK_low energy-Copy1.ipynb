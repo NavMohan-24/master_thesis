{
 "cells": [
  {
   "cell_type": "code",
   "execution_count": 1,
   "id": "compound-clear",
   "metadata": {},
   "outputs": [],
   "source": [
    "from qiskit import*\n",
    "from qiskit.tools.visualization import*\n",
    "from numpy import*\n",
    "from matplotlib.pyplot import*"
   ]
  },
  {
   "cell_type": "code",
   "execution_count": 2,
   "id": "distributed-excitement",
   "metadata": {},
   "outputs": [],
   "source": [
    "m12=7.39*10**-5\n",
    "m13=2.525*10**-3\n",
    "m23=m13\n",
    "th12=0.5902\n",
    "th23=0.8656\n",
    "th13=0.1502\n",
    "LE=linspace(0,1000,11)#(L/E)lib.pyplot import*\n",
    "le=linspace(0,1200,121)"
   ]
  },
  {
   "cell_type": "code",
   "execution_count": 3,
   "id": "broad-stephen",
   "metadata": {},
   "outputs": [],
   "source": [
    "muon_counts=[]\n",
    "electron_counts=[]\n",
    "tau_counts=[]"
   ]
  },
  {
   "cell_type": "code",
   "execution_count": 4,
   "id": "accurate-pizza",
   "metadata": {},
   "outputs": [],
   "source": [
    "def phi_1(E):\n",
    "    return(2*(1.27*m12*E))\n",
    "def phi_2(E):\n",
    "    return(2*(1.27*m13*E))\n",
    "def prob_t(E):\n",
    "    return((cos(th13)**2)*((sin(2*th23))**2)*(sin(1.27*m23*E))**2)\n",
    "def prob_e(E):\n",
    "    return((sin(2*th13)**2)*((sin(th23))**2)*(sin(1.27*m23*E))**2) \n",
    "def prob_m(E):\n",
    "    return(1-(cos(th13)**2)*((sin(2*th23))**2)*((sin(1.27*m23*E))**2)-(sin(2*th13)**2)*((sin(th23))**2)*(sin(1.27*m23*E))**2)"
   ]
  },
  {
   "cell_type": "code",
   "execution_count": 5,
   "id": "interpreted-cooperation",
   "metadata": {},
   "outputs": [],
   "source": [
    "alpha=-0.6031\n",
    "beta=-2.0125\n",
    "gamma=0.7966\n",
    "delta=1.0139\n",
    "eps=0.7053\n",
    "zeta=1.3599"
   ]
  },
  {
   "cell_type": "code",
   "execution_count": 22,
   "id": "blank-fireplace",
   "metadata": {},
   "outputs": [
    {
     "data": {
      "text/plain": [
       "<qiskit.circuit.gate.Gate at 0x7f22b1321790>"
      ]
     },
     "execution_count": 22,
     "metadata": {},
     "output_type": "execute_result"
    }
   ],
   "source": [
    "PMNS=QuantumCircuit(2,name='PMNS')\n",
    "PMNS.u(-1*alpha,0,0,0)\n",
    "PMNS.u(-1*beta,0,0,1)\n",
    "PMNS.cx(1,0)\n",
    "PMNS.u(-1*gamma,0,0,0)\n",
    "PMNS.u(-1*delta,0,0,1)\n",
    "PMNS.cx(1,0)\n",
    "PMNS.u(-1*eps,0,0,0)\n",
    "PMNS.u(-1*zeta,0,0,1)\n",
    "#PMNS.draw()\n",
    "PMNS.to_gate()"
   ]
  },
  {
   "cell_type": "code",
   "execution_count": 23,
   "id": "sitting-anthony",
   "metadata": {},
   "outputs": [
    {
     "data": {
      "text/plain": [
       "<qiskit.circuit.gate.Gate at 0x7f22b01ff0d0>"
      ]
     },
     "execution_count": 23,
     "metadata": {},
     "output_type": "execute_result"
    }
   ],
   "source": [
    "PMNSd=QuantumCircuit(2,name='PMNSd')\n",
    "PMNSd.u(eps,0,0,0)\n",
    "PMNSd.u(zeta,0,0,1)\n",
    "PMNSd.cx(1,0)\n",
    "PMNSd.u(gamma,0,0,0)\n",
    "PMNSd.u(delta,0,0,1)\n",
    "PMNSd.cx(1,0)\n",
    "PMNSd.u(alpha,0,0,0)\n",
    "PMNSd.u(beta,0,0,1)\n",
    "\n",
    "#PMNSd.draw()\n",
    "PMNSd.to_gate()"
   ]
  },
  {
   "cell_type": "code",
   "execution_count": 24,
   "id": "induced-nurse",
   "metadata": {},
   "outputs": [
    {
     "name": "stdout",
     "output_type": "stream",
     "text": [
      "{'10': 1024}\n",
      "{'10': 927, '01': 91, '11': 6}\n",
      "{'01': 372, '10': 630, '11': 22}\n",
      "{'01': 668, '10': 323, '11': 33}\n",
      "{'01': 882, '10': 91, '11': 51}\n",
      "{'01': 972, '11': 52}\n",
      "{'01': 897, '10': 98, '11': 29}\n",
      "{'10': 371, '01': 627, '11': 26}\n",
      "{'10': 683, '01': 333, '11': 8}\n",
      "{'10': 940, '01': 84}\n",
      "{'10': 1021, '11': 3}\n"
     ]
    }
   ],
   "source": [
    "qr=QuantumRegister(2)\n",
    "cr=ClassicalRegister(2)\n",
    "qc=QuantumCircuit(qr,cr)\n",
    "#circuit\n",
    "backend=BasicAer.get_backend('qasm_simulator')\n",
    "for E in LE:\n",
    "    p=phi_1(E)\n",
    "    q=phi_2(E)\n",
    "    qc.x(qr[1])\n",
    "    qc.append(PMNSd,[1,0])\n",
    "    qc.u(0,0,q,qr[0])\n",
    "    qc.u(0,0,p,qr[1])\n",
    "    qc.append(PMNS,[1,0])\n",
    "    qc.measure(qr[0],cr[0])\n",
    "    qc.measure(qr[1],cr[1])\n",
    "    counts=execute(qc,backend,shots=1024).result().get_counts()\n",
    "    print(counts)\n",
    "    qc.reset(qr[0])\n",
    "    qc.reset(qr[1])   \n"
   ]
  },
  {
   "cell_type": "code",
   "execution_count": 14,
   "id": "moderate-recorder",
   "metadata": {},
   "outputs": [
    {
     "data": {
      "text/html": [
       "<pre style=\"word-wrap: normal;white-space: pre;background: #fff0;line-height: 1.1;font-family: &quot;Courier New&quot;,Courier,monospace\">        ┌───┐┌────────┐┌──────────┐┌───────┐┌─┐     ┌───┐┌────────┐»\n",
       "q110_0: ┤ X ├┤1       ├┤ U(0,0,0) ├┤1      ├┤M├─|0>─┤ X ├┤1       ├»\n",
       "        └───┘│  PMNSd │├──────────┤│  PMNS │└╥┘ ┌─┐ └───┘│  PMNSd │»\n",
       "q110_1: ─────┤0       ├┤ U(0,0,0) ├┤0      ├─╫──┤M├──|0>─┤0       ├»\n",
       "             └────────┘└──────────┘└───────┘ ║  └╥┘      └────────┘»\n",
       "  c2: 2/═════════════════════════════════════╩═══╩═════════════════»\n",
       "                                             0   1                 »\n",
       "«        ┌─────────────────┐┌───────┐┌─┐     ┌───┐┌────────┐┌─────────────────┐»\n",
       "«q110_0: ┤ U(0,0,0.018771) ├┤1      ├┤M├─|0>─┤ X ├┤1       ├┤ U(0,0,0.037541) ├»\n",
       "«        └┬────────────────┤│  PMNS │└╥┘ ┌─┐ └───┘│  PMNSd │└┬───────────────┬┘»\n",
       "«q110_1: ─┤ U(0,0,0.64135) ├┤0      ├─╫──┤M├──|0>─┤0       ├─┤ U(0,0,1.2827) ├─»\n",
       "«         └────────────────┘└───────┘ ║  └╥┘      └────────┘ └───────────────┘ »\n",
       "«  c2: 2/═════════════════════════════╩═══╩════════════════════════════════════»\n",
       "«                                     0   1                                    »\n",
       "«        ┌───────┐┌─┐     ┌───┐┌────────┐┌─────────────────┐┌───────┐┌─┐     »\n",
       "«q110_0: ┤1      ├┤M├─|0>─┤ X ├┤1       ├┤ U(0,0,0.056312) ├┤1      ├┤M├─|0>─»\n",
       "«        │  PMNS │└╥┘ ┌─┐ └───┘│  PMNSd │└┬───────────────┬┘│  PMNS │└╥┘ ┌─┐ »\n",
       "«q110_1: ┤0      ├─╫──┤M├──|0>─┤0       ├─┤ U(0,0,1.9241) ├─┤0      ├─╫──┤M├─»\n",
       "«        └───────┘ ║  └╥┘      └────────┘ └───────────────┘ └───────┘ ║  └╥┘ »\n",
       "«  c2: 2/══════════╩═══╩══════════════════════════════════════════════╩═══╩══»\n",
       "«                  0   1                                              0   1  »\n",
       "«        ┌───┐┌────────┐┌─────────────────┐┌───────┐┌─┐     ┌───┐┌────────┐»\n",
       "«q110_0: ┤ X ├┤1       ├┤ U(0,0,0.075082) ├┤1      ├┤M├─|0>─┤ X ├┤1       ├»\n",
       "«        └───┘│  PMNSd │└┬───────────────┬┘│  PMNS │└╥┘ ┌─┐ └───┘│  PMNSd │»\n",
       "«q110_1: ─|0>─┤0       ├─┤ U(0,0,2.5654) ├─┤0      ├─╫──┤M├──|0>─┤0       ├»\n",
       "«             └────────┘ └───────────────┘ └───────┘ ║  └╥┘      └────────┘»\n",
       "«  c2: 2/════════════════════════════════════════════╩═══╩═════════════════»\n",
       "«                                                    0   1                 »\n",
       "«        ┌─────────────────┐┌───────┐┌─┐     ┌───┐┌────────┐┌────────────────┐»\n",
       "«q110_0: ┤ U(0,0,0.093853) ├┤1      ├┤M├─|0>─┤ X ├┤1       ├┤ U(0,0,0.11262) ├»\n",
       "«        └┬───────────────┬┘│  PMNS │└╥┘ ┌─┐ └───┘│  PMNSd │├───────────────┬┘»\n",
       "«q110_1: ─┤ U(0,0,3.2067) ├─┤0      ├─╫──┤M├──|0>─┤0       ├┤ U(0,0,3.8481) ├─»\n",
       "«         └───────────────┘ └───────┘ ║  └╥┘      └────────┘└───────────────┘ »\n",
       "«  c2: 2/═════════════════════════════╩═══╩═══════════════════════════════════»\n",
       "«                                     0   1                                   »\n",
       "«        ┌───────┐┌─┐     ┌───┐┌────────┐┌────────────────┐┌───────┐┌─┐     »\n",
       "«q110_0: ┤1      ├┤M├─|0>─┤ X ├┤1       ├┤ U(0,0,0.13139) ├┤1      ├┤M├─|0>─»\n",
       "«        │  PMNS │└╥┘ ┌─┐ └───┘│  PMNSd │├───────────────┬┘│  PMNS │└╥┘ ┌─┐ »\n",
       "«q110_1: ┤0      ├─╫──┤M├──|0>─┤0       ├┤ U(0,0,4.4894) ├─┤0      ├─╫──┤M├─»\n",
       "«        └───────┘ ║  └╥┘      └────────┘└───────────────┘ └───────┘ ║  └╥┘ »\n",
       "«  c2: 2/══════════╩═══╩═════════════════════════════════════════════╩═══╩══»\n",
       "«                  0   1                                             0   1  »\n",
       "«        ┌───┐┌────────┐┌────────────────┐┌───────┐┌─┐     ┌───┐┌────────┐»\n",
       "«q110_0: ┤ X ├┤1       ├┤ U(0,0,0.15016) ├┤1      ├┤M├─|0>─┤ X ├┤1       ├»\n",
       "«        └───┘│  PMNSd │├───────────────┬┘│  PMNS │└╥┘ ┌─┐ └───┘│  PMNSd │»\n",
       "«q110_1: ─|0>─┤0       ├┤ U(0,0,5.1308) ├─┤0      ├─╫──┤M├──|0>─┤0       ├»\n",
       "«             └────────┘└───────────────┘ └───────┘ ║  └╥┘      └────────┘»\n",
       "«  c2: 2/═══════════════════════════════════════════╩═══╩═════════════════»\n",
       "«                                                   0   1                 »\n",
       "«        ┌────────────────┐┌───────┐┌─┐     ┌───┐┌────────┐┌────────────────┐»\n",
       "«q110_0: ┤ U(0,0,0.16894) ├┤1      ├┤M├─|0>─┤ X ├┤1       ├┤ U(0,0,0.18771) ├»\n",
       "«        ├───────────────┬┘│  PMNS │└╥┘ ┌─┐ └───┘│  PMNSd │├───────────────┬┘»\n",
       "«q110_1: ┤ U(0,0,5.7721) ├─┤0      ├─╫──┤M├──|0>─┤0       ├┤ U(0,0,6.4135) ├─»\n",
       "«        └───────────────┘ └───────┘ ║  └╥┘      └────────┘└───────────────┘ »\n",
       "«  c2: 2/════════════════════════════╩═══╩═══════════════════════════════════»\n",
       "«                                    0   1                                   »\n",
       "«        ┌───────┐┌─┐          \n",
       "«q110_0: ┤1      ├┤M├─|0>──────\n",
       "«        │  PMNS │└╥┘ ┌─┐      \n",
       "«q110_1: ┤0      ├─╫──┤M├──|0>─\n",
       "«        └───────┘ ║  └╥┘      \n",
       "«  c2: 2/══════════╩═══╩═══════\n",
       "«                  0   1       </pre>"
      ],
      "text/plain": [
       "        ┌───┐┌────────┐┌──────────┐┌───────┐┌─┐     ┌───┐┌────────┐»\n",
       "q110_0: ┤ X ├┤1       ├┤ U(0,0,0) ├┤1      ├┤M├─|0>─┤ X ├┤1       ├»\n",
       "        └───┘│  PMNSd │├──────────┤│  PMNS │└╥┘ ┌─┐ └───┘│  PMNSd │»\n",
       "q110_1: ─────┤0       ├┤ U(0,0,0) ├┤0      ├─╫──┤M├──|0>─┤0       ├»\n",
       "             └────────┘└──────────┘└───────┘ ║  └╥┘      └────────┘»\n",
       "  c2: 2/═════════════════════════════════════╩═══╩═════════════════»\n",
       "                                             0   1                 »\n",
       "«        ┌─────────────────┐┌───────┐┌─┐     ┌───┐┌────────┐┌─────────────────┐»\n",
       "«q110_0: ┤ U(0,0,0.018771) ├┤1      ├┤M├─|0>─┤ X ├┤1       ├┤ U(0,0,0.037541) ├»\n",
       "«        └┬────────────────┤│  PMNS │└╥┘ ┌─┐ └───┘│  PMNSd │└┬───────────────┬┘»\n",
       "«q110_1: ─┤ U(0,0,0.64135) ├┤0      ├─╫──┤M├──|0>─┤0       ├─┤ U(0,0,1.2827) ├─»\n",
       "«         └────────────────┘└───────┘ ║  └╥┘      └────────┘ └───────────────┘ »\n",
       "«  c2: 2/═════════════════════════════╩═══╩════════════════════════════════════»\n",
       "«                                     0   1                                    »\n",
       "«        ┌───────┐┌─┐     ┌───┐┌────────┐┌─────────────────┐┌───────┐┌─┐     »\n",
       "«q110_0: ┤1      ├┤M├─|0>─┤ X ├┤1       ├┤ U(0,0,0.056312) ├┤1      ├┤M├─|0>─»\n",
       "«        │  PMNS │└╥┘ ┌─┐ └───┘│  PMNSd │└┬───────────────┬┘│  PMNS │└╥┘ ┌─┐ »\n",
       "«q110_1: ┤0      ├─╫──┤M├──|0>─┤0       ├─┤ U(0,0,1.9241) ├─┤0      ├─╫──┤M├─»\n",
       "«        └───────┘ ║  └╥┘      └────────┘ └───────────────┘ └───────┘ ║  └╥┘ »\n",
       "«  c2: 2/══════════╩═══╩══════════════════════════════════════════════╩═══╩══»\n",
       "«                  0   1                                              0   1  »\n",
       "«        ┌───┐┌────────┐┌─────────────────┐┌───────┐┌─┐     ┌───┐┌────────┐»\n",
       "«q110_0: ┤ X ├┤1       ├┤ U(0,0,0.075082) ├┤1      ├┤M├─|0>─┤ X ├┤1       ├»\n",
       "«        └───┘│  PMNSd │└┬───────────────┬┘│  PMNS │└╥┘ ┌─┐ └───┘│  PMNSd │»\n",
       "«q110_1: ─|0>─┤0       ├─┤ U(0,0,2.5654) ├─┤0      ├─╫──┤M├──|0>─┤0       ├»\n",
       "«             └────────┘ └───────────────┘ └───────┘ ║  └╥┘      └────────┘»\n",
       "«  c2: 2/════════════════════════════════════════════╩═══╩═════════════════»\n",
       "«                                                    0   1                 »\n",
       "«        ┌─────────────────┐┌───────┐┌─┐     ┌───┐┌────────┐┌────────────────┐»\n",
       "«q110_0: ┤ U(0,0,0.093853) ├┤1      ├┤M├─|0>─┤ X ├┤1       ├┤ U(0,0,0.11262) ├»\n",
       "«        └┬───────────────┬┘│  PMNS │└╥┘ ┌─┐ └───┘│  PMNSd │├───────────────┬┘»\n",
       "«q110_1: ─┤ U(0,0,3.2067) ├─┤0      ├─╫──┤M├──|0>─┤0       ├┤ U(0,0,3.8481) ├─»\n",
       "«         └───────────────┘ └───────┘ ║  └╥┘      └────────┘└───────────────┘ »\n",
       "«  c2: 2/═════════════════════════════╩═══╩═══════════════════════════════════»\n",
       "«                                     0   1                                   »\n",
       "«        ┌───────┐┌─┐     ┌───┐┌────────┐┌────────────────┐┌───────┐┌─┐     »\n",
       "«q110_0: ┤1      ├┤M├─|0>─┤ X ├┤1       ├┤ U(0,0,0.13139) ├┤1      ├┤M├─|0>─»\n",
       "«        │  PMNS │└╥┘ ┌─┐ └───┘│  PMNSd │├───────────────┬┘│  PMNS │└╥┘ ┌─┐ »\n",
       "«q110_1: ┤0      ├─╫──┤M├──|0>─┤0       ├┤ U(0,0,4.4894) ├─┤0      ├─╫──┤M├─»\n",
       "«        └───────┘ ║  └╥┘      └────────┘└───────────────┘ └───────┘ ║  └╥┘ »\n",
       "«  c2: 2/══════════╩═══╩═════════════════════════════════════════════╩═══╩══»\n",
       "«                  0   1                                             0   1  »\n",
       "«        ┌───┐┌────────┐┌────────────────┐┌───────┐┌─┐     ┌───┐┌────────┐»\n",
       "«q110_0: ┤ X ├┤1       ├┤ U(0,0,0.15016) ├┤1      ├┤M├─|0>─┤ X ├┤1       ├»\n",
       "«        └───┘│  PMNSd │├───────────────┬┘│  PMNS │└╥┘ ┌─┐ └───┘│  PMNSd │»\n",
       "«q110_1: ─|0>─┤0       ├┤ U(0,0,5.1308) ├─┤0      ├─╫──┤M├──|0>─┤0       ├»\n",
       "«             └────────┘└───────────────┘ └───────┘ ║  └╥┘      └────────┘»\n",
       "«  c2: 2/═══════════════════════════════════════════╩═══╩═════════════════»\n",
       "«                                                   0   1                 »\n",
       "«        ┌────────────────┐┌───────┐┌─┐     ┌───┐┌────────┐┌────────────────┐»\n",
       "«q110_0: ┤ U(0,0,0.16894) ├┤1      ├┤M├─|0>─┤ X ├┤1       ├┤ U(0,0,0.18771) ├»\n",
       "«        ├───────────────┬┘│  PMNS │└╥┘ ┌─┐ └───┘│  PMNSd │├───────────────┬┘»\n",
       "«q110_1: ┤ U(0,0,5.7721) ├─┤0      ├─╫──┤M├──|0>─┤0       ├┤ U(0,0,6.4135) ├─»\n",
       "«        └───────────────┘ └───────┘ ║  └╥┘      └────────┘└───────────────┘ »\n",
       "«  c2: 2/════════════════════════════╩═══╩═══════════════════════════════════»\n",
       "«                                    0   1                                   »\n",
       "«        ┌───────┐┌─┐          \n",
       "«q110_0: ┤1      ├┤M├─|0>──────\n",
       "«        │  PMNS │└╥┘ ┌─┐      \n",
       "«q110_1: ┤0      ├─╫──┤M├──|0>─\n",
       "«        └───────┘ ║  └╥┘      \n",
       "«  c2: 2/══════════╩═══╩═══════\n",
       "«                  0   1       "
      ]
     },
     "execution_count": 14,
     "metadata": {},
     "output_type": "execute_result"
    }
   ],
   "source": [
    "qc.draw()"
   ]
  },
  {
   "cell_type": "code",
   "execution_count": 162,
   "id": "spread-chosen",
   "metadata": {},
   "outputs": [],
   "source": [
    "AC_t=prob_t(le)\n",
    "AC_e=prob_e(le)\n",
    "AC_m=prob_m(le)"
   ]
  },
  {
   "cell_type": "code",
   "execution_count": 164,
   "id": "twenty-spectacular",
   "metadata": {
    "scrolled": true
   },
   "outputs": [
    {
     "data": {
      "text/plain": [
       "<matplotlib.legend.Legend at 0x7fbc9837fad0>"
      ]
     },
     "execution_count": 164,
     "metadata": {},
     "output_type": "execute_result"
    },
    {
     "data": {
      "image/png": "[encoded data removed]",
      "text/plain": [
       "<Figure size 432x288 with 1 Axes>"
      ]
     },
     "metadata": {
      "needs_background": "light"
     },
     "output_type": "display_data"
    }
   ],
   "source": [
    "plot(le,AC_t,'-b',label='tau')\n",
    "plot(le,AC_e,'-r',label='electron')\n",
    "plot(le,AC_m,'-y',label='muon')\n",
    "plot(LE,electron_counts,'or',label='elec-Qasm')\n",
    "plot(LE,muon_counts,'oy',label='muon-Qasm')\n",
    "plot(LE,tau_counts,'ob',label='tau-Qasm')\n",
    "legend()"
   ]
  },
  {
   "cell_type": "code",
   "execution_count": null,
   "id": "identified-guard",
   "metadata": {},
   "outputs": [],
   "source": []
  },
  {
   "cell_type": "code",
   "execution_count": null,
   "id": "nominated-queen",
   "metadata": {},
   "outputs": [],
   "source": []
  }
 ],
 "metadata": {
  "kernelspec": {
   "display_name": "Python 3",
   "language": "python",
   "name": "python3"
  },
  "language_info": {
   "codemirror_mode": {
    "name": "ipython",
    "version": 3
   },
   "file_extension": ".py",
   "mimetype": "text/x-python",
   "name": "python",
   "nbconvert_exporter": "python",
   "pygments_lexer": "ipython3",
   "version": "3.7.7"
  }
 },
 "nbformat": 4,
 "nbformat_minor": 5
}
