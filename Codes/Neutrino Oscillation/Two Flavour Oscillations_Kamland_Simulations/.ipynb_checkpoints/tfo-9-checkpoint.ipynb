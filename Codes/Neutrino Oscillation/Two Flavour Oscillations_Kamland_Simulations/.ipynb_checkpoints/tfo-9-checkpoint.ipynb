{
 "cells": [
  {
   "cell_type": "code",
   "execution_count": null,
   "id": "mexican-blink",
   "metadata": {},
   "outputs": [],
   "source": [
    "from qiskit import*\n",
    "from qiskit.tools.visualization import*\n",
    "from numpy import*\n",
    "from matplotlib.pyplot import*"
   ]
  },
  {
   "cell_type": "code",
   "execution_count": null,
   "id": "mounted-arthur",
   "metadata": {},
   "outputs": [],
   "source": [
    "qr=QuantumRegister(1)\n",
    "cr=ClassicalRegister(1)\n",
    "qc=QuantumCircuit(qr,cr)\n",
    "\n",
    "def phi(E):\n",
    "    return(2*(1.27*m*L)/E)\n",
    "\n",
    "m=6.9*10**-5 #delta m_square\n",
    "L=180\n",
    "E=arange(2*10**-3,12*10**-3,0.5*10**-3)\n",
    "th=pi/2 # 2*mixing angle"
   ]
  },
  {
   "cell_type": "code",
   "execution_count": null,
   "id": "auburn-expert",
   "metadata": {},
   "outputs": [],
   "source": [
    "provider=IBMQ.get_provider(hub='ibm-q')\n",
    "backend=provider.get_backend('ibmq_belem')\n",
    "\n",
    "app_counts=[]\n",
    "dis_counts=[]\n",
    "Phi=phi(E[8])\n",
    "\n",
    "qc.u(th,0,0,qr[0])\n",
    "qc.u(0,0,Phi,qr[0])\n",
    "qc.u(-1*th,0,0,qr[0])\n",
    "qc.measure(qr[0],cr[0])\n",
    "job=execute(qc,backend=backend,shots=1024).result().get_counts()\n",
    "if '0' in job:\n",
    "        app_counts.append(job['0']/1024)\n",
    "        dis_counts.append((1024-job['0'])/1024)\n",
    "else:\n",
    "    app_counts.append(0)\n",
    "    dis_counts.append(1)\n",
    "    \n"
   ]
  },
  {
   "cell_type": "code",
   "execution_count": null,
   "id": "measured-incidence",
   "metadata": {},
   "outputs": [],
   "source": [
    "print('appearance_count : ',app_counts)\n",
    "print('disappearance_count : ',dis_counts)"
   ]
  }
 ],
 "metadata": {
  "kernelspec": {
   "display_name": "Python 3",
   "language": "python",
   "name": "python3"
  },
  "language_info": {
   "codemirror_mode": {
    "name": "ipython",
    "version": 3
   },
   "file_extension": ".py",
   "mimetype": "text/x-python",
   "name": "python",
   "nbconvert_exporter": "python",
   "pygments_lexer": "ipython3",
   "version": "3.7.7"
  }
 },
 "nbformat": 4,
 "nbformat_minor": 5
}
