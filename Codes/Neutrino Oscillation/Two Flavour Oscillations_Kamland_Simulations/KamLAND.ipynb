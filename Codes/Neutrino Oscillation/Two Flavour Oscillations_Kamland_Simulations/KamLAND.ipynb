{
 "cells": [
  {
   "cell_type": "code",
   "execution_count": null,
   "id": "absolute-chart",
   "metadata": {},
   "outputs": [],
   "source": [
    "from qiskit import*\n",
    "from qiskit.tools.visualization import*\n",
    "from numpy import*\n",
    "from matplotlib.pyplot import*"
   ]
  },
  {
   "cell_type": "code",
   "execution_count": null,
   "id": "moved-webster",
   "metadata": {},
   "outputs": [],
   "source": [
    "qr=QuantumRegister(1)\n",
    "cr=ClassicalRegister(1)\n",
    "qc=QuantumCircuit(qr,cr)\n",
    "\n",
    "def phi(E):\n",
    "    return(2*(1.27*m*L)/E)\n",
    "\n",
    "m=6.9*10**-5 #delta m_square\n",
    "L=180\n",
    "E=arange(2*10**-3,12*10**-3,0.5*10**-3)\n",
    "th=pi/2 # 2*mixing angle"
   ]
  },
  {
   "cell_type": "code",
   "execution_count": null,
   "id": "molecular-thomson",
   "metadata": {},
   "outputs": [],
   "source": [
    "IBMQ.load_account()\n",
    "provider=IBMQ.get_provider(hub='ibm-q')\n",
    "backend=provider.get_backend('ibmq_belem')\n",
    "\n",
    "app_counts=[]\n",
    "dis_counts=[]"
   ]
  },
  {
   "cell_type": "code",
   "execution_count": null,
   "id": "first-johnson",
   "metadata": {},
   "outputs": [],
   "source": [
    "Phi=phi(E[0])\n",
    "\n",
    "qc.u(th,0,0,qr[0])\n",
    "qc.u(0,0,Phi,qr[0])\n",
    "qc.u(-1*th,0,0,qr[0])\n",
    "qc.measure(qr[0],cr[0])\n",
    "job=execute(qc,backend=backend,shots=1024).result().get_counts()\n",
    "if '0' in job:\n",
    "        app_counts.append(job['0']/1024)\n",
    "        dis_counts.append((1024-job['0'])/1024)\n",
    "else:\n",
    "    app_counts.append(0)\n",
    "    dis_counts.append(1)\n",
    "qc.reset(qr[0])"
   ]
  },
  {
   "cell_type": "code",
   "execution_count": null,
   "id": "thirty-knock",
   "metadata": {},
   "outputs": [],
   "source": [
    "print('appearance_count : ',app_counts)\n",
    "print('disappearance_count : ',dis_counts)"
   ]
  },
  {
   "cell_type": "code",
   "execution_count": null,
   "id": "binding-december",
   "metadata": {},
   "outputs": [],
   "source": [
    "Phi=phi(E[1])\n",
    "\n",
    "qc.u(th,0,0,qr[0])\n",
    "qc.u(0,0,Phi,qr[0])\n",
    "qc.u(-1*th,0,0,qr[0])\n",
    "qc.measure(qr[0],cr[0])\n",
    "job=execute(qc,backend=backend,shots=1024).result().get_counts()\n",
    "if '0' in job:\n",
    "        app_counts.append(job['0']/1024)\n",
    "        dis_counts.append((1024-job['0'])/1024)\n",
    "else:\n",
    "    app_counts.append(0)\n",
    "    dis_counts.append(1)\n",
    "qc.reset(qr[0])"
   ]
  },
  {
   "cell_type": "code",
   "execution_count": null,
   "id": "collaborative-beatles",
   "metadata": {},
   "outputs": [],
   "source": [
    "print('appearance_count : ',app_counts)\n",
    "print('disappearance_count : ',dis_counts)"
   ]
  },
  {
   "cell_type": "code",
   "execution_count": null,
   "id": "front-franchise",
   "metadata": {},
   "outputs": [],
   "source": [
    "Phi=phi(E[2])\n",
    "\n",
    "qc.u(th,0,0,qr[0])\n",
    "qc.u(0,0,Phi,qr[0])\n",
    "qc.u(-1*th,0,0,qr[0])\n",
    "qc.measure(qr[0],cr[0])\n",
    "job=execute(qc,backend=backend,shots=1024).result().get_counts()\n",
    "if '0' in job:\n",
    "        app_counts.append(job['0']/1024)\n",
    "        dis_counts.append((1024-job['0'])/1024)\n",
    "else:\n",
    "    app_counts.append(0)\n",
    "    dis_counts.append(1)\n",
    "qc.reset(qr[0])"
   ]
  },
  {
   "cell_type": "code",
   "execution_count": null,
   "id": "cheap-contrary",
   "metadata": {},
   "outputs": [],
   "source": [
    "print('appearance_count : ',app_counts)\n",
    "print('disappearance_count : ',dis_counts)"
   ]
  },
  {
   "cell_type": "code",
   "execution_count": null,
   "id": "fitting-wichita",
   "metadata": {},
   "outputs": [],
   "source": [
    "Phi=phi(E[3])\n",
    "\n",
    "qc.u(th,0,0,qr[0])\n",
    "qc.u(0,0,Phi,qr[0])\n",
    "qc.u(-1*th,0,0,qr[0])\n",
    "qc.measure(qr[0],cr[0])\n",
    "job=execute(qc,backend=backend,shots=1024).result().get_counts()\n",
    "if '0' in job:\n",
    "        app_counts.append(job['0']/1024)\n",
    "        dis_counts.append((1024-job['0'])/1024)\n",
    "else:\n",
    "    app_counts.append(0)\n",
    "    dis_counts.append(1)\n",
    "qc.reset(qr[0])"
   ]
  },
  {
   "cell_type": "code",
   "execution_count": null,
   "id": "conventional-directory",
   "metadata": {},
   "outputs": [],
   "source": [
    "print('appearance_count : ',app_counts)\n",
    "print('disappearance_count : ',dis_counts)"
   ]
  },
  {
   "cell_type": "code",
   "execution_count": null,
   "id": "aerial-monaco",
   "metadata": {},
   "outputs": [],
   "source": [
    "Phi=phi(E[4])\n",
    "\n",
    "qc.u(th,0,0,qr[0])\n",
    "qc.u(0,0,Phi,qr[0])\n",
    "qc.u(-1*th,0,0,qr[0])\n",
    "qc.measure(qr[0],cr[0])\n",
    "job=execute(qc,backend=backend,shots=1024).result().get_counts()\n",
    "if '0' in job:\n",
    "        app_counts.append(job['0']/1024)\n",
    "        dis_counts.append((1024-job['0'])/1024)\n",
    "else:\n",
    "    app_counts.append(0)\n",
    "    dis_counts.append(1)\n",
    "qc.reset(qr[0])"
   ]
  },
  {
   "cell_type": "code",
   "execution_count": null,
   "id": "fatty-toyota",
   "metadata": {},
   "outputs": [],
   "source": [
    "print('appearance_count : ',app_counts)\n",
    "print('disappearance_count : ',dis_counts)"
   ]
  },
  {
   "cell_type": "code",
   "execution_count": null,
   "id": "printable-rebecca",
   "metadata": {},
   "outputs": [],
   "source": [
    "Phi=phi(E[5])\n",
    "\n",
    "qc.u(th,0,0,qr[0])\n",
    "qc.u(0,0,Phi,qr[0])\n",
    "qc.u(-1*th,0,0,qr[0])\n",
    "qc.measure(qr[0],cr[0])\n",
    "job=execute(qc,backend=backend,shots=1024).result().get_counts()\n",
    "if '0' in job:\n",
    "        app_counts.append(job['0']/1024)\n",
    "        dis_counts.append((1024-job['0'])/1024)\n",
    "else:\n",
    "    app_counts.append(0)\n",
    "    dis_counts.append(1)\n",
    "qc.reset(qr[0])"
   ]
  },
  {
   "cell_type": "code",
   "execution_count": null,
   "id": "recognized-paraguay",
   "metadata": {},
   "outputs": [],
   "source": [
    "print('appearance_count : ',app_counts)\n",
    "print('disappearance_count : ',dis_counts)"
   ]
  },
  {
   "cell_type": "code",
   "execution_count": null,
   "id": "deluxe-reunion",
   "metadata": {},
   "outputs": [],
   "source": [
    "Phi=phi(E[6])\n",
    "\n",
    "qc.u(th,0,0,qr[0])\n",
    "qc.u(0,0,Phi,qr[0])\n",
    "qc.u(-1*th,0,0,qr[0])\n",
    "qc.measure(qr[0],cr[0])\n",
    "job=execute(qc,backend=backend,shots=1024).result().get_counts()\n",
    "if '0' in job:\n",
    "        app_counts.append(job['0']/1024)\n",
    "        dis_counts.append((1024-job['0'])/1024)\n",
    "else:\n",
    "    app_counts.append(0)\n",
    "    dis_counts.append(1)\n",
    "qc.reset(qr[0])"
   ]
  },
  {
   "cell_type": "code",
   "execution_count": null,
   "id": "future-skill",
   "metadata": {},
   "outputs": [],
   "source": [
    "print('appearance_count : ',app_counts)\n",
    "print('disappearance_count : ',dis_counts)"
   ]
  },
  {
   "cell_type": "code",
   "execution_count": null,
   "id": "integral-contamination",
   "metadata": {},
   "outputs": [],
   "source": [
    "Phi=phi(E[7])\n",
    "\n",
    "qc.u(th,0,0,qr[0])\n",
    "qc.u(0,0,Phi,qr[0])\n",
    "qc.u(-1*th,0,0,qr[0])\n",
    "qc.measure(qr[0],cr[0])\n",
    "job=execute(qc,backend=backend,shots=1024).result().get_counts()\n",
    "if '0' in job:\n",
    "        app_counts.append(job['0']/1024)\n",
    "        dis_counts.append((1024-job['0'])/1024)\n",
    "else:\n",
    "    app_counts.append(0)\n",
    "    dis_counts.append(1)\n",
    "qc.reset(qr[0])"
   ]
  },
  {
   "cell_type": "code",
   "execution_count": null,
   "id": "interpreted-border",
   "metadata": {},
   "outputs": [],
   "source": [
    "print('appearance_count : ',app_counts)\n",
    "print('disappearance_count : ',dis_counts)"
   ]
  },
  {
   "cell_type": "code",
   "execution_count": null,
   "id": "fitting-nowhere",
   "metadata": {},
   "outputs": [],
   "source": [
    "Phi=phi(E[8])\n",
    "\n",
    "qc.u(th,0,0,qr[0])\n",
    "qc.u(0,0,Phi,qr[0])\n",
    "qc.u(-1*th,0,0,qr[0])\n",
    "qc.measure(qr[0],cr[0])\n",
    "job=execute(qc,backend=backend,shots=1024).result().get_counts()\n",
    "if '0' in job:\n",
    "        app_counts.append(job['0']/1024)\n",
    "        dis_counts.append((1024-job['0'])/1024)\n",
    "else:\n",
    "    app_counts.append(0)\n",
    "    dis_counts.append(1)\n",
    "qc.reset(qr[0])"
   ]
  },
  {
   "cell_type": "code",
   "execution_count": null,
   "id": "musical-duplicate",
   "metadata": {},
   "outputs": [],
   "source": [
    "print('appearance_count : ',app_counts)\n",
    "print('disappearance_count : ',dis_counts)"
   ]
  },
  {
   "cell_type": "code",
   "execution_count": null,
   "id": "downtown-great",
   "metadata": {},
   "outputs": [],
   "source": [
    "Phi=phi(E[9])\n",
    "\n",
    "qc.u(th,0,0,qr[0])\n",
    "qc.u(0,0,Phi,qr[0])\n",
    "qc.u(-1*th,0,0,qr[0])\n",
    "qc.measure(qr[0],cr[0])\n",
    "job=execute(qc,backend=backend,shots=1024).result().get_counts()\n",
    "if '0' in job:\n",
    "        app_counts.append(job['0']/1024)\n",
    "        dis_counts.append((1024-job['0'])/1024)\n",
    "else:\n",
    "    app_counts.append(0)\n",
    "    dis_counts.append(1)\n",
    "qc.reset(qr[0])"
   ]
  },
  {
   "cell_type": "code",
   "execution_count": null,
   "id": "blind-peoples",
   "metadata": {},
   "outputs": [],
   "source": [
    "print('appearance_count : ',app_counts)\n",
    "print('disappearance_count : ',dis_counts)"
   ]
  },
  {
   "cell_type": "code",
   "execution_count": null,
   "id": "civil-planning",
   "metadata": {},
   "outputs": [],
   "source": [
    "Phi=phi(E[10])\n",
    "\n",
    "qc.u(th,0,0,qr[0])\n",
    "qc.u(0,0,Phi,qr[0])\n",
    "qc.u(-1*th,0,0,qr[0])\n",
    "qc.measure(qr[0],cr[0])\n",
    "job=execute(qc,backend=backend,shots=1024).result().get_counts()\n",
    "if '0' in job:\n",
    "        app_counts.append(job['0']/1024)\n",
    "        dis_counts.append((1024-job['0'])/1024)\n",
    "else:\n",
    "    app_counts.append(0)\n",
    "    dis_counts.append(1)\n",
    "qc.reset(qr[0])"
   ]
  },
  {
   "cell_type": "code",
   "execution_count": null,
   "id": "brazilian-target",
   "metadata": {},
   "outputs": [],
   "source": [
    "print('appearance_count : ',app_counts)\n",
    "print('disappearance_count : ',dis_counts)"
   ]
  },
  {
   "cell_type": "code",
   "execution_count": null,
   "id": "blond-finger",
   "metadata": {},
   "outputs": [],
   "source": [
    "Phi=phi(E[11])\n",
    "\n",
    "qc.u(th,0,0,qr[0])\n",
    "qc.u(0,0,Phi,qr[0])\n",
    "qc.u(-1*th,0,0,qr[0])\n",
    "qc.measure(qr[0],cr[0])\n",
    "job=execute(qc,backend=backend,shots=1024).result().get_counts()\n",
    "if '0' in job:\n",
    "        app_counts.append(job['0']/1024)\n",
    "        dis_counts.append((1024-job['0'])/1024)\n",
    "else:\n",
    "    app_counts.append(0)\n",
    "    dis_counts.append(1)\n",
    "qc.reset(qr[0])"
   ]
  },
  {
   "cell_type": "code",
   "execution_count": null,
   "id": "native-creativity",
   "metadata": {},
   "outputs": [],
   "source": [
    "print('appearance_count : ',app_counts)\n",
    "print('disappearance_count : ',dis_counts)"
   ]
  },
  {
   "cell_type": "code",
   "execution_count": null,
   "id": "disabled-spell",
   "metadata": {},
   "outputs": [],
   "source": [
    "Phi=phi(E[12])\n",
    "\n",
    "qc.u(th,0,0,qr[0])\n",
    "qc.u(0,0,Phi,qr[0])\n",
    "qc.u(-1*th,0,0,qr[0])\n",
    "qc.measure(qr[0],cr[0])\n",
    "job=execute(qc,backend=backend,shots=1024).result().get_counts()\n",
    "if '0' in job:\n",
    "        app_counts.append(job['0']/1024)\n",
    "        dis_counts.append((1024-job['0'])/1024)\n",
    "else:\n",
    "    app_counts.append(0)\n",
    "    dis_counts.append(1)\n",
    "qc.reset(qr[0])"
   ]
  },
  {
   "cell_type": "code",
   "execution_count": null,
   "id": "western-fellow",
   "metadata": {},
   "outputs": [],
   "source": [
    "print('appearance_count : ',app_counts)\n",
    "print('disappearance_count : ',dis_counts)"
   ]
  },
  {
   "cell_type": "code",
   "execution_count": null,
   "id": "resistant-champion",
   "metadata": {},
   "outputs": [],
   "source": [
    "Phi=phi(E[13])\n",
    "\n",
    "qc.u(th,0,0,qr[0])\n",
    "qc.u(0,0,Phi,qr[0])\n",
    "qc.u(-1*th,0,0,qr[0])\n",
    "qc.measure(qr[0],cr[0])\n",
    "job=execute(qc,backend=backend,shots=1024).result().get_counts()\n",
    "if '0' in job:\n",
    "        app_counts.append(job['0']/1024)\n",
    "        dis_counts.append((1024-job['0'])/1024)\n",
    "else:\n",
    "    app_counts.append(0)\n",
    "    dis_counts.append(1)\n",
    "qc.reset(qr[0])"
   ]
  },
  {
   "cell_type": "code",
   "execution_count": null,
   "id": "compatible-angola",
   "metadata": {},
   "outputs": [],
   "source": [
    "print('appearance_count : ',app_counts)\n",
    "print('disappearance_count : ',dis_counts)"
   ]
  },
  {
   "cell_type": "code",
   "execution_count": null,
   "id": "perceived-belgium",
   "metadata": {},
   "outputs": [],
   "source": [
    "Phi=phi(E[14])\n",
    "\n",
    "qc.u(th,0,0,qr[0])\n",
    "qc.u(0,0,Phi,qr[0])\n",
    "qc.u(-1*th,0,0,qr[0])\n",
    "qc.measure(qr[0],cr[0])\n",
    "job=execute(qc,backend=backend,shots=1024).result().get_counts()\n",
    "if '0' in job:\n",
    "        app_counts.append(job['0']/1024)\n",
    "        dis_counts.append((1024-job['0'])/1024)\n",
    "else:\n",
    "    app_counts.append(0)\n",
    "    dis_counts.append(1)\n",
    "qc.reset(qr[0])"
   ]
  },
  {
   "cell_type": "code",
   "execution_count": null,
   "id": "round-spiritual",
   "metadata": {},
   "outputs": [],
   "source": [
    "print('appearance_count : ',app_counts)\n",
    "print('disappearance_count : ',dis_counts)"
   ]
  },
  {
   "cell_type": "code",
   "execution_count": null,
   "id": "sudden-hierarchy",
   "metadata": {},
   "outputs": [],
   "source": [
    "Phi=phi(E[15])\n",
    "\n",
    "qc.u(th,0,0,qr[0])\n",
    "qc.u(0,0,Phi,qr[0])\n",
    "qc.u(-1*th,0,0,qr[0])\n",
    "qc.measure(qr[0],cr[0])\n",
    "job=execute(qc,backend=backend,shots=1024).result().get_counts()\n",
    "if '0' in job:\n",
    "        app_counts.append(job['0']/1024)\n",
    "        dis_counts.append((1024-job['0'])/1024)\n",
    "else:\n",
    "    app_counts.append(0)\n",
    "    dis_counts.append(1)\n",
    "qc.reset(qr[0])"
   ]
  },
  {
   "cell_type": "code",
   "execution_count": null,
   "id": "painted-happening",
   "metadata": {},
   "outputs": [],
   "source": [
    "print('appearance_count : ',app_counts)\n",
    "print('disappearance_count : ',dis_counts)"
   ]
  },
  {
   "cell_type": "code",
   "execution_count": null,
   "id": "numerical-concern",
   "metadata": {},
   "outputs": [],
   "source": [
    "Phi=phi(E[16])\n",
    "\n",
    "qc.u(th,0,0,qr[0])\n",
    "qc.u(0,0,Phi,qr[0])\n",
    "qc.u(-1*th,0,0,qr[0])\n",
    "qc.measure(qr[0],cr[0])\n",
    "job=execute(qc,backend=backend,shots=1024).result().get_counts()\n",
    "if '0' in job:\n",
    "        app_counts.append(job['0']/1024)\n",
    "        dis_counts.append((1024-job['0'])/1024)\n",
    "else:\n",
    "    app_counts.append(0)\n",
    "    dis_counts.append(1)\n",
    "qc.reset(qr[0])"
   ]
  },
  {
   "cell_type": "code",
   "execution_count": null,
   "id": "latest-removal",
   "metadata": {},
   "outputs": [],
   "source": [
    "print('appearance_count : ',app_counts)\n",
    "print('disappearance_count : ',dis_counts)"
   ]
  },
  {
   "cell_type": "code",
   "execution_count": null,
   "id": "exempt-insert",
   "metadata": {},
   "outputs": [],
   "source": [
    "Phi=phi(E[17])\n",
    "\n",
    "qc.u(th,0,0,qr[0])\n",
    "qc.u(0,0,Phi,qr[0])\n",
    "qc.u(-1*th,0,0,qr[0])\n",
    "qc.measure(qr[0],cr[0])\n",
    "job=execute(qc,backend=backend,shots=1024).result().get_counts()\n",
    "if '0' in job:\n",
    "        app_counts.append(job['0']/1024)\n",
    "        dis_counts.append((1024-job['0'])/1024)\n",
    "else:\n",
    "    app_counts.append(0)\n",
    "    dis_counts.append(1)\n",
    "qc.reset(qr[0])"
   ]
  },
  {
   "cell_type": "code",
   "execution_count": null,
   "id": "refined-ordering",
   "metadata": {},
   "outputs": [],
   "source": [
    "print('appearance_count : ',app_counts)\n",
    "print('disappearance_count : ',dis_counts)"
   ]
  },
  {
   "cell_type": "code",
   "execution_count": null,
   "id": "cordless-bridges",
   "metadata": {},
   "outputs": [],
   "source": [
    "Phi=phi(E[18])\n",
    "\n",
    "qc.u(th,0,0,qr[0])\n",
    "qc.u(0,0,Phi,qr[0])\n",
    "qc.u(-1*th,0,0,qr[0])\n",
    "qc.measure(qr[0],cr[0])\n",
    "job=execute(qc,backend=backend,shots=1024).result().get_counts()\n",
    "if '0' in job:\n",
    "        app_counts.append(job['0']/1024)\n",
    "        dis_counts.append((1024-job['0'])/1024)\n",
    "else:\n",
    "    app_counts.append(0)\n",
    "    dis_counts.append(1)\n",
    "qc.reset(qr[0])"
   ]
  },
  {
   "cell_type": "code",
   "execution_count": null,
   "id": "unknown-superintendent",
   "metadata": {},
   "outputs": [],
   "source": [
    "print('appearance_count : ',app_counts)\n",
    "print('disappearance_count : ',dis_counts)"
   ]
  },
  {
   "cell_type": "code",
   "execution_count": null,
   "id": "middle-picking",
   "metadata": {},
   "outputs": [],
   "source": [
    "Phi=phi(E[19])\n",
    "\n",
    "qc.u(th,0,0,qr[0])\n",
    "qc.u(0,0,Phi,qr[0])\n",
    "qc.u(-1*th,0,0,qr[0])\n",
    "qc.measure(qr[0],cr[0])\n",
    "job=execute(qc,backend=backend,shots=1024).result().get_counts()\n",
    "if '0' in job:\n",
    "        app_counts.append(job['0']/1024)\n",
    "        dis_counts.append((1024-job['0'])/1024)\n",
    "else:\n",
    "    app_counts.append(0)\n",
    "    dis_counts.append(1)\n",
    "qc.reset(qr[0])"
   ]
  },
  {
   "cell_type": "code",
   "execution_count": null,
   "id": "ideal-subsection",
   "metadata": {},
   "outputs": [],
   "source": [
    "print('appearance_count : ',app_counts)\n",
    "print('disappearance_count : ',dis_counts)"
   ]
  }
 ],
 "metadata": {
  "kernelspec": {
   "display_name": "Python 3",
   "language": "python",
   "name": "python3"
  },
  "language_info": {
   "codemirror_mode": {
    "name": "ipython",
    "version": 3
   },
   "file_extension": ".py",
   "mimetype": "text/x-python",
   "name": "python",
   "nbconvert_exporter": "python",
   "pygments_lexer": "ipython3",
   "version": "3.7.7"
  }
 },
 "nbformat": 4,
 "nbformat_minor": 5
}
