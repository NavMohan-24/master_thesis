{
 "cells": [
  {
   "cell_type": "code",
   "execution_count": 28,
   "id": "characteristic-strength",
   "metadata": {},
   "outputs": [],
   "source": [
    "from numpy import*\n",
    "from cmath import*\n",
    "\n",
    "# Basic gates\n",
    "X=matrix([[0,1],[1,0]]) #pauli x gate\n",
    "Y=matrix([[0,-1j],[1j,0]])\n",
    "Z=matrix([[1,0],[0,-1]])\n",
    "H=matrix([[1/sqrt(2),1/sqrt(2)],[1/sqrt(2),-1/sqrt(2)]])\n",
    "S=matrix([[1,0],[0,1j]])\n",
    "theta=complex(0,pi/4)\n",
    "T=matrix([[1,0],[0,exp(theta)]])\n",
    "cx=matrix([[1,0,0,0],[0,1,0,0],[0,0,0,1],[0,0,1,0]])\n",
    "ccx=matrix([[1,0,0,0,0,0,0,0],[0,1,0,0,0,0,0,0],[0,0,1,0,0,0,0,0],[0,0,0,0,1,0,0,0],[0,0,0,0,0,1,0,0,],[0,0,0,0,0,0,0,1],[0,0,0,0,0,0,1,0]])\n",
    "cz=matrix([[1,0,0,0],[0,1,0,0],[0,0,1,0],[0,0,0,-1]])\n",
    "swap=matrix([[1,0,0,0],[0,0,1,0],[0,1,0,0],[0,0,0,1]])\n",
    "\n",
    "#one qubit "
   ]
  },
  {
   "cell_type": "code",
   "execution_count": null,
   "id": "accepting-mustang",
   "metadata": {},
   "outputs": [],
   "source": []
  }
 ],
 "metadata": {
  "kernelspec": {
   "display_name": "Python 3",
   "language": "python",
   "name": "python3"
  },
  "language_info": {
   "codemirror_mode": {
    "name": "ipython",
    "version": 3
   },
   "file_extension": ".py",
   "mimetype": "text/x-python",
   "name": "python",
   "nbconvert_exporter": "python",
   "pygments_lexer": "ipython3",
   "version": "3.7.7"
  }
 },
 "nbformat": 4,
 "nbformat_minor": 5
}
