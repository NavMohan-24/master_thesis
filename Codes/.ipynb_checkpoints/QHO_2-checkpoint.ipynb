{
 "cells": [
  {
   "cell_type": "code",
   "execution_count": 1,
   "metadata": {},
   "outputs": [],
   "source": [
    "from qiskit import*\n",
    "from qiskit.tools.visualization import*\n",
    "from numpy import*\n",
    "from matplotlib.pyplot import*"
   ]
  },
  {
   "cell_type": "code",
   "execution_count": 2,
   "metadata": {},
   "outputs": [],
   "source": [
    "qr=QuantumRegister(2,name='qr')\n",
    "anci=QuantumRegister(3,name='anci')\n",
    "cr=ClassicalRegister(2,name='cr')\n"
   ]
  },
  {
   "cell_type": "code",
   "execution_count": 3,
   "metadata": {},
   "outputs": [],
   "source": [
    "backend=BasicAer.get_backend('qasm_simulator')\n",
    "def circuit(a,qc):\n",
    "    qc.cx(qr[0],anci[0])\n",
    "    qc.x(anci[0])\n",
    "    qc.cu(a,-pi/2,pi/2,0,anci[0],qr[0])\n",
    "    qc.x(anci[0])\n",
    "    qc.cx(anci[0],qr[0])\n",
    "    qc.cx(qr[0],anci[2])\n",
    "    qc.x(anci[2])\n",
    "    qc.h(anci[2])\n",
    "    qc.h(qr[1])\n",
    "    qc.cx(qr[1],anci[2])\n",
    "    qc.h(qr[1])\n",
    "    qc.h(anci[2])\n",
    "    qc.x(anci[2])\n",
    "    qc.x(anci[0])\n",
    "    qc.cu(a,-pi/2,pi/2,0,anci[0],qr[1])\n",
    "    qc.x(anci[0])\n",
    "    qc.cx(qr[0],qr[1])\n",
    "    qc.h(anci[2])\n",
    "    qc.cx(anci[2],qr[1])\n",
    "    qc.cx(anci[2],qr[0])\n",
    "    qc.h(anci[2])\n",
    "    qc.ch(anci[2],qr[0])\n",
    "    qc.barrier()\n",
    "    qc.measure(0,0)\n",
    "    qc.measure(1,1)\n",
    "    \n",
    "#qc.draw(output='mpl')"
   ]
  },
  {
   "cell_type": "code",
   "execution_count": 4,
   "metadata": {},
   "outputs": [
    {
     "name": "stdout",
     "output_type": "stream",
     "text": [
      "[0.    0.001 0.002 0.003 0.004]\n"
     ]
    }
   ],
   "source": [
    "t=arange(0,0.005,0.001)\n",
    "w=1\n",
    "phi=0\n",
    "m=1\n",
    "def f(t):\n",
    "    A=1\n",
    "    return((A*cos(w*t + phi))/sqrt(2*m))\n",
    "print(t)"
   ]
  },
  {
   "cell_type": "code",
   "execution_count": 5,
   "metadata": {},
   "outputs": [],
   "source": [
    "p=[]\n",
    "q=[]\n",
    "r=[]\n",
    "s=[]\n",
    "theta=[b*f(b) for b in t]\n",
    "a0=theta[0]\n",
    "a1=theta[1]\n",
    "a2=theta[2]\n",
    "a3=theta[3]\n",
    "a4=theta[4]"
   ]
  },
  {
   "cell_type": "code",
   "execution_count": 10,
   "metadata": {},
   "outputs": [
    {
     "name": "stderr",
     "output_type": "stream",
     "text": [
      "/home/nav/anaconda3/lib/python3.8/site-packages/qiskit/providers/ibmq/ibmqfactory.py:192: UserWarning: Timestamps in IBMQ backend properties, jobs, and job results are all now in local time instead of UTC.\n",
      "  warnings.warn('Timestamps in IBMQ backend properties, jobs, and job results '\n"
     ]
    }
   ],
   "source": [
    "IBMQ.load_account()\n",
    "provider=IBMQ.get_provider(hub='ibm-q')\n",
    "backend=provider.get_backend('ibmq_lima')\n"
   ]
  },
  {
   "cell_type": "code",
   "execution_count": 11,
   "metadata": {},
   "outputs": [
    {
     "name": "stdout",
     "output_type": "stream",
     "text": [
      "Job Status: job has successfully run\n"
     ]
    }
   ],
   "source": [
    "qc1=QuantumCircuit(qr,anci,cr)\n",
    "circuit(a1,qc1)\n",
    "job_exp = execute(qc1, backend=backend, shots=1024)\n",
    "\n",
    "from qiskit.tools.monitor import job_monitor\n",
    "job_monitor(job_exp) "
   ]
  },
  {
   "cell_type": "code",
   "execution_count": 13,
   "metadata": {},
   "outputs": [],
   "source": [
    "exp_result = job_exp.result()\n",
    "counts = exp_result.get_counts(qc1)\n",
    "p.append(counts['00']/1024)\n",
    "q.append(counts['01']/1024)\n",
    "s.append(counts['10']/1024)\n",
    "r.append(counts['11']/1024)"
   ]
  },
  {
   "cell_type": "code",
   "execution_count": 15,
   "metadata": {},
   "outputs": [
    {
     "name": "stdout",
     "output_type": "stream",
     "text": [
      "[0.3095703125]\n"
     ]
    }
   ],
   "source": [
    "print(q)"
   ]
  },
  {
   "cell_type": "code",
   "execution_count": null,
   "metadata": {},
   "outputs": [],
   "source": []
  },
  {
   "cell_type": "code",
   "execution_count": null,
   "metadata": {},
   "outputs": [],
   "source": []
  },
  {
   "cell_type": "code",
   "execution_count": null,
   "metadata": {},
   "outputs": [],
   "source": []
  },
  {
   "cell_type": "code",
   "execution_count": null,
   "metadata": {},
   "outputs": [],
   "source": []
  }
 ],
 "metadata": {
  "kernelspec": {
   "display_name": "Python 3",
   "language": "python",
   "name": "python3"
  },
  "language_info": {
   "codemirror_mode": {
    "name": "ipython",
    "version": 3
   },
   "file_extension": ".py",
   "mimetype": "text/x-python",
   "name": "python",
   "nbconvert_exporter": "python",
   "pygments_lexer": "ipython3",
   "version": "3.7.7"
  }
 },
 "nbformat": 4,
 "nbformat_minor": 4
}
