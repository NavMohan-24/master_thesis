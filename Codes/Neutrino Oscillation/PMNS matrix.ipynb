{
 "cells": [
  {
   "cell_type": "code",
   "execution_count": 1,
   "id": "consolidated-awareness",
   "metadata": {},
   "outputs": [],
   "source": [
    "from numpy import*\n",
    "from cmath import*"
   ]
  },
  {
   "cell_type": "code",
   "execution_count": 10,
   "id": "exterior-truck",
   "metadata": {},
   "outputs": [],
   "source": [
    "s12=sqrt(0.310)\n",
    "c12=sqrt(1-0.310)\n",
    "s23=sqrt(0.580)\n",
    "c23=sqrt(1-0.580)\n",
    "s13=sqrt(0.02241)\n",
    "c13=sqrt(1-0.02241)\n",
    "cp=0#3.75245\n",
    "dcp=complex(0,cp)"
   ]
  },
  {
   "cell_type": "code",
   "execution_count": 11,
   "id": "focused-opera",
   "metadata": {},
   "outputs": [
    {
     "name": "stdout",
     "output_type": "stream",
     "text": [
      "[[ 0.82130208+0.j  0.55050241+0.j  0.1496997 +0.j]\n",
      " [-0.45553444-0.j  0.47485384+0.j  0.75299548+0.j]\n",
      " [ 0.34344035+0.j -0.68663012-0.j  0.64077125+0.j]]\n"
     ]
    }
   ],
   "source": [
    "pmns=matrix([[c12*c13,s12*c13,s13*exp(-1*dcp)],\n",
    "             [-s12*c23-c12*s23*s13*exp(dcp),c12*c23-s12*s13*s23*exp(dcp),c13*s23],\n",
    "             [s12*s23-c12*s13*c23*exp(dcp),-c12*s23-s12*s13*c23*exp(dcp),c13*c23]])\n",
    "print(pmns)"
   ]
  },
  {
   "cell_type": "code",
   "execution_count": 12,
   "id": "shared-lobby",
   "metadata": {},
   "outputs": [
    {
     "name": "stdout",
     "output_type": "stream",
     "text": [
      "[[ 0.82130208-0.j -0.45553444+0.j  0.34344035-0.j]\n",
      " [ 0.55050241-0.j  0.47485384-0.j -0.68663012+0.j]\n",
      " [ 0.1496997 -0.j  0.75299548-0.j  0.64077125-0.j]]\n"
     ]
    }
   ],
   "source": [
    "pmnsd=pmns.getH()\n",
    "print(pmnsd)"
   ]
  },
  {
   "cell_type": "code",
   "execution_count": null,
   "id": "possible-norfolk",
   "metadata": {},
   "outputs": [],
   "source": []
  }
 ],
 "metadata": {
  "kernelspec": {
   "display_name": "Python 3",
   "language": "python",
   "name": "python3"
  },
  "language_info": {
   "codemirror_mode": {
    "name": "ipython",
    "version": 3
   },
   "file_extension": ".py",
   "mimetype": "text/x-python",
   "name": "python",
   "nbconvert_exporter": "python",
   "pygments_lexer": "ipython3",
   "version": "3.7.7"
  }
 },
 "nbformat": 4,
 "nbformat_minor": 5
}
