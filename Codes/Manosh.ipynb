{
 "cells": [
  {
   "cell_type": "code",
   "execution_count": 67,
   "id": "typical-dispute",
   "metadata": {},
   "outputs": [],
   "source": [
    "from numpy import*\n",
    "from matplotlib.pyplot import*\n",
    "from qiskit import*\n",
    "from qiskit.tools.visualization import*"
   ]
  },
  {
   "cell_type": "code",
   "execution_count": 74,
   "id": "removed-terrain",
   "metadata": {},
   "outputs": [],
   "source": [
    "qr=QuantumRegister(2,name=\"qr\")\n",
    "cr=ClassicalRegister(2,name='cr')\n",
    "qc=QuantumCircuit(qr,cr)"
   ]
  },
  {
   "cell_type": "code",
   "execution_count": 75,
   "id": "electronic-catalog",
   "metadata": {},
   "outputs": [],
   "source": [
    "w= 2*pi\n",
    "l= 0.01*w\n",
    "t=arange(1,100,1)\n",
    "backend=BasicAer.get_backend('qasm_simulator')"
   ]
  },
  {
   "cell_type": "code",
   "execution_count": 76,
   "id": "spiritual-vegetarian",
   "metadata": {
    "scrolled": true
   },
   "outputs": [
    {
     "name": "stdout",
     "output_type": "stream",
     "text": [
      "{'01': 1023, '10': 1}\n",
      "{'01': 1002, '10': 22}\n",
      "{'01': 977, '10': 47}\n",
      "{'01': 966, '10': 58}\n",
      "{'01': 932, '10': 92}\n",
      "{'10': 159, '01': 865}\n",
      "{'01': 832, '10': 192}\n",
      "{'01': 769, '10': 255}\n",
      "{'01': 702, '10': 322}\n",
      "{'01': 669, '10': 355}\n",
      "{'10': 411, '01': 613}\n",
      "{'10': 500, '01': 524}\n",
      "{'01': 491, '10': 533}\n",
      "{'01': 417, '10': 607}\n",
      "{'10': 669, '01': 355}\n",
      "{'10': 761, '01': 263}\n",
      "{'10': 790, '01': 234}\n",
      "{'10': 817, '01': 207}\n",
      "{'01': 153, '10': 871}\n",
      "{'10': 935, '01': 89}\n",
      "{'10': 959, '01': 65}\n",
      "{'10': 981, '01': 43}\n",
      "{'10': 1013, '01': 11}\n",
      "{'10': 1022, '01': 2}\n",
      "{'10': 1024}\n",
      "{'10': 1016, '01': 8}\n",
      "{'10': 1010, '01': 14}\n",
      "{'10': 999, '01': 25}\n",
      "{'10': 961, '01': 63}\n",
      "{'10': 926, '01': 98}\n",
      "{'10': 892, '01': 132}\n",
      "{'10': 843, '01': 181}\n",
      "{'10': 795, '01': 229}\n",
      "{'10': 695, '01': 329}\n",
      "{'01': 331, '10': 693}\n",
      "{'10': 596, '01': 428}\n",
      "{'01': 475, '10': 549}\n",
      "{'01': 556, '10': 468}\n",
      "{'01': 618, '10': 406}\n",
      "{'01': 655, '10': 369}\n",
      "{'01': 703, '10': 321}\n",
      "{'01': 767, '10': 257}\n",
      "{'01': 823, '10': 201}\n",
      "{'10': 121, '01': 903}\n",
      "{'01': 948, '10': 76}\n",
      "{'01': 960, '10': 64}\n",
      "{'01': 991, '10': 33}\n",
      "{'01': 996, '10': 28}\n",
      "{'01': 1022, '10': 2}\n",
      "{'01': 1024}\n",
      "{'01': 1017, '10': 7}\n",
      "{'01': 1004, '10': 20}\n",
      "{'10': 42, '01': 982}\n",
      "{'01': 964, '10': 60}\n",
      "{'10': 104, '01': 920}\n",
      "{'01': 879, '10': 145}\n",
      "{'01': 859, '10': 165}\n",
      "{'01': 791, '10': 233}\n",
      "{'01': 723, '10': 301}\n",
      "{'01': 684, '10': 340}\n",
      "{'10': 399, '01': 625}\n",
      "{'01': 547, '10': 477}\n",
      "{'10': 526, '01': 498}\n",
      "{'01': 401, '10': 623}\n",
      "{'10': 680, '01': 344}\n",
      "{'10': 744, '01': 280}\n",
      "{'10': 783, '01': 241}\n",
      "{'01': 170, '10': 854}\n",
      "{'10': 876, '01': 148}\n",
      "{'10': 920, '01': 104}\n",
      "{'01': 74, '10': 950}\n",
      "{'10': 991, '01': 33}\n",
      "{'10': 1011, '01': 13}\n",
      "{'10': 1022, '01': 2}\n",
      "{'10': 1024}\n",
      "{'10': 1023, '01': 1}\n",
      "{'10': 1014, '01': 10}\n",
      "{'10': 983, '01': 41}\n",
      "{'01': 60, '10': 964}\n",
      "{'10': 919, '01': 105}\n",
      "{'10': 866, '01': 158}\n",
      "{'01': 169, '10': 855}\n",
      "{'10': 777, '01': 247}\n",
      "{'10': 739, '01': 285}\n",
      "{'10': 687, '01': 337}\n",
      "{'01': 453, '10': 571}\n",
      "{'10': 534, '01': 490}\n",
      "{'10': 466, '01': 558}\n",
      "{'10': 425, '01': 599}\n",
      "{'10': 359, '01': 665}\n",
      "{'10': 294, '01': 730}\n",
      "{'01': 790, '10': 234}\n",
      "{'01': 833, '10': 191}\n",
      "{'01': 896, '10': 128}\n",
      "{'01': 933, '10': 91}\n",
      "{'01': 962, '10': 62}\n",
      "{'01': 991, '10': 33}\n",
      "{'01': 1000, '10': 24}\n",
      "{'01': 1019, '10': 5}\n",
      "[1023, 1002, 977, 966, 932, 865, 832, 769, 702, 669, 613, 524, 491, 417, 355, 263, 234, 207, 153, 89, 65, 43, 11, 2, 0, 8, 14, 25, 63, 98, 132, 181, 229, 329, 331, 428, 475, 556, 618, 655, 703, 767, 823, 903, 948, 960, 991, 996, 1022, 1024, 1017, 1004, 982, 964, 920, 879, 859, 791, 723, 684, 625, 547, 498, 401, 344, 280, 241, 170, 148, 104, 74, 33, 13, 2, 0, 1, 10, 41, 60, 105, 158, 169, 247, 285, 337, 453, 490, 558, 599, 665, 730, 790, 833, 896, 933, 962, 991, 1000, 1019]\n",
      "[1, 22, 47, 58, 92, 159, 192, 255, 322, 355, 411, 500, 533, 607, 669, 761, 790, 817, 871, 935, 959, 981, 1013, 1022, 1024, 1016, 1010, 999, 961, 926, 892, 843, 795, 695, 693, 596, 549, 468, 406, 369, 321, 257, 201, 121, 76, 64, 33, 28, 2, 0, 7, 20, 42, 60, 104, 145, 165, 233, 301, 340, 399, 477, 526, 623, 680, 744, 783, 854, 876, 920, 950, 991, 1011, 1022, 1024, 1023, 1014, 983, 964, 919, 866, 855, 777, 739, 687, 571, 534, 466, 425, 359, 294, 234, 191, 128, 91, 62, 33, 24, 5]\n"
     ]
    }
   ],
   "source": [
    "p,q=[],[]\n",
    "\n",
    "for i in t:\n",
    "    qc.x(qr[0])\n",
    "    qc.barrier()\n",
    "    qc.rz(w*i,qr[0])\n",
    "    qc.rz(w*i,qr[1])\n",
    "    qc.barrier()\n",
    "    qc.rxx(l*i,qr[0],qr[1])\n",
    "    qc.ryy(l*i,qr[0],qr[1])\n",
    "    qc.barrier()\n",
    "    qc.measure(0,0)\n",
    "    qc.measure(1,1)\n",
    "\n",
    "    counts=execute(qc,backend,shots=1024).result().get_counts()\n",
    "    if '01' in counts:\n",
    "            p.append(counts['01'])\n",
    "            q.append(1024-counts['01'])\n",
    "    else:\n",
    "        p.append(0)\n",
    "        q.append(1024)\n",
    "\n",
    "    qc.reset(qr)    \n",
    "    print(counts)\n",
    "    \n",
    "print(p)\n",
    "print(q)"
   ]
  },
  {
   "cell_type": "code",
   "execution_count": 77,
   "id": "superior-mattress",
   "metadata": {
    "scrolled": true
   },
   "outputs": [
    {
     "data": {
      "text/plain": [
       "[<matplotlib.lines.Line2D at 0x7fd047e05310>]"
      ]
     },
     "execution_count": 77,
     "metadata": {},
     "output_type": "execute_result"
    },
    {
     "data": {
      "image/png": "[encoded data removed]",
      "text/plain": [
       "<Figure size 432x288 with 1 Axes>"
      ]
     },
     "metadata": {
      "needs_background": "light"
     },
     "output_type": "display_data"
    }
   ],
   "source": [
    "plot(t,p)\n",
    "plot(t,q)"
   ]
  },
  {
   "cell_type": "code",
   "execution_count": null,
   "id": "hairy-score",
   "metadata": {},
   "outputs": [],
   "source": []
  },
  {
   "cell_type": "code",
   "execution_count": null,
   "id": "saving-knock",
   "metadata": {},
   "outputs": [],
   "source": []
  }
 ],
 "metadata": {
  "kernelspec": {
   "display_name": "Python 3",
   "language": "python",
   "name": "python3"
  },
  "language_info": {
   "codemirror_mode": {
    "name": "ipython",
    "version": 3
   },
   "file_extension": ".py",
   "mimetype": "text/x-python",
   "name": "python",
   "nbconvert_exporter": "python",
   "pygments_lexer": "ipython3",
   "version": "3.7.7"
  }
 },
 "nbformat": 4,
 "nbformat_minor": 5
}
