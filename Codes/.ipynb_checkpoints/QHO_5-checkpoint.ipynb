{
 "cells": [
  {
   "cell_type": "code",
   "execution_count": 1,
   "metadata": {},
   "outputs": [],
   "source": [
    "from qiskit import*\n",
    "from qiskit.tools.visualization import*\n",
    "from numpy import*\n",
    "from matplotlib.pyplot import*"
   ]
  },
  {
   "cell_type": "code",
   "execution_count": 2,
   "metadata": {},
   "outputs": [],
   "source": [
    "qr=QuantumRegister(2,name='qr')\n",
    "anci=QuantumRegister(3,name='anci')\n",
    "cr=ClassicalRegister(2,name='cr')\n"
   ]
  },
  {
   "cell_type": "code",
   "execution_count": 3,
   "metadata": {},
   "outputs": [],
   "source": [
    "def circuit(a,qc):\n",
    "    qc.cx(qr[0],anci[0])\n",
    "    qc.x(anci[0])\n",
    "    qc.cu(a,-pi/2,pi/2,0,anci[0],qr[0])\n",
    "    qc.x(anci[0])\n",
    "    qc.cx(anci[0],qr[0])\n",
    "    qc.cx(qr[0],anci[2])\n",
    "    qc.x(anci[2])\n",
    "    qc.h(anci[2])\n",
    "    qc.h(qr[1])\n",
    "    qc.cx(qr[1],anci[2])\n",
    "    qc.h(qr[1])\n",
    "    qc.h(anci[2])\n",
    "    qc.x(anci[2])\n",
    "    qc.x(anci[0])\n",
    "    qc.cu(a,-pi/2,pi/2,0,anci[0],qr[1])\n",
    "    qc.x(anci[0])\n",
    "    qc.cx(qr[0],qr[1])\n",
    "    qc.h(anci[2])\n",
    "    qc.cx(anci[2],qr[1])\n",
    "    qc.cx(anci[2],qr[0])\n",
    "    qc.h(anci[2])\n",
    "    qc.ch(anci[2],qr[0])\n",
    "    qc.barrier()\n",
    "    qc.measure(qr[0],cr[0])\n",
    "    qc.measure(qr[1],cr[1])"
   ]
  },
  {
   "cell_type": "code",
   "execution_count": 4,
   "metadata": {},
   "outputs": [],
   "source": [
    "t=arange(0,0.005,0.001)\n",
    "w=1\n",
    "phi=0\n",
    "m=1\n",
    "def f(t):\n",
    "    A=1\n",
    "    return((A*cos(w*t + phi))/sqrt(2*m)) "
   ]
  },
  {
   "cell_type": "code",
   "execution_count": 5,
   "metadata": {},
   "outputs": [],
   "source": [
    "p=[]\n",
    "q=[]\n",
    "r=[]\n",
    "s=[]\n",
    "theta=[b*f(b) for b in t]\n",
    "a0=theta[0]\n",
    "a1=theta[1]\n",
    "a2=theta[2]\n",
    "a3=theta[3]\n",
    "a4=theta[4]"
   ]
  },
  {
   "cell_type": "code",
   "execution_count": 4,
   "metadata": {},
   "outputs": [
    {
     "name": "stderr",
     "output_type": "stream",
     "text": [
      "/home/nav/anaconda3/lib/python3.8/site-packages/qiskit/providers/ibmq/ibmqfactory.py:192: UserWarning: Timestamps in IBMQ backend properties, jobs, and job results are all now in local time instead of UTC.\n",
      "  warnings.warn('Timestamps in IBMQ backend properties, jobs, and job results '\n"
     ]
    }
   ],
   "source": [
    "IBMQ.load_account()\n",
    "provider=IBMQ.get_provider(hub='ibm-q')\n",
    "backend=provider.get_backend('ibmq_quito')\n"
   ]
  },
  {
   "cell_type": "code",
   "execution_count": 7,
   "metadata": {},
   "outputs": [
    {
     "name": "stdout",
     "output_type": "stream",
     "text": [
      "Job Status: job has successfully run\n"
     ]
    }
   ],
   "source": [
    "qc1=QuantumCircuit(qr,anci,cr)\n",
    "circuit(a0,qc1)\n",
    "job_exp = execute(qc1, backend=backend, shots=1024)\n",
    "\n",
    "from qiskit.tools.monitor import job_monitor\n",
    "job_monitor(job_exp) "
   ]
  },
  {
   "cell_type": "code",
   "execution_count": 8,
   "metadata": {},
   "outputs": [],
   "source": [
    "exp_result = job_exp.result()\n",
    "counts = exp_result.get_counts(qc1)\n",
    "p.append(counts['00']/1024)\n",
    "q.append(counts['01']/1024)\n",
    "s.append(counts['10']/1024)\n",
    "r.append(counts['11']/1024)"
   ]
  },
  {
   "cell_type": "code",
   "execution_count": 9,
   "metadata": {},
   "outputs": [
    {
     "name": "stdout",
     "output_type": "stream",
     "text": [
      "Job Status: job has successfully run\n"
     ]
    }
   ],
   "source": [
    "qc2=QuantumCircuit(qr,anci,cr)\n",
    "circuit(a1,qc2)\n",
    "job_exp = execute(qc2, backend=backend, shots=1024)\n",
    "\n",
    "from qiskit.tools.monitor import job_monitor\n",
    "job_monitor(job_exp) "
   ]
  },
  {
   "cell_type": "code",
   "execution_count": 10,
   "metadata": {},
   "outputs": [],
   "source": [
    "exp_result = job_exp.result()\n",
    "counts = exp_result.get_counts(qc2)\n",
    "p.append(counts['00']/1024)\n",
    "q.append(counts['01']/1024)\n",
    "s.append(counts['10']/1024)\n",
    "r.append(counts['11']/1024)"
   ]
  },
  {
   "cell_type": "code",
   "execution_count": 11,
   "metadata": {},
   "outputs": [
    {
     "name": "stdout",
     "output_type": "stream",
     "text": [
      "Job Status: job has successfully run\n"
     ]
    }
   ],
   "source": [
    "qc3=QuantumCircuit(qr,anci,cr)\n",
    "circuit(a2,qc3)\n",
    "job_exp = execute(qc3, backend=backend, shots=1024)\n",
    "\n",
    "from qiskit.tools.monitor import job_monitor\n",
    "job_monitor(job_exp) "
   ]
  },
  {
   "cell_type": "code",
   "execution_count": 12,
   "metadata": {},
   "outputs": [],
   "source": [
    "exp_result = job_exp.result()\n",
    "counts = exp_result.get_counts(qc3)\n",
    "p.append(counts['00']/1024)\n",
    "q.append(counts['01']/1024)\n",
    "s.append(counts['10']/1024)\n",
    "r.append(counts['11']/1024)"
   ]
  },
  {
   "cell_type": "code",
   "execution_count": 13,
   "metadata": {},
   "outputs": [
    {
     "name": "stdout",
     "output_type": "stream",
     "text": [
      "Job Status: job has successfully run\n"
     ]
    }
   ],
   "source": [
    "qc4=QuantumCircuit(qr,anci,cr)\n",
    "circuit(a3,qc4)\n",
    "job_exp = execute(qc4, backend=backend, shots=1024)\n",
    "\n",
    "from qiskit.tools.monitor import job_monitor\n",
    "job_monitor(job_exp) "
   ]
  },
  {
   "cell_type": "code",
   "execution_count": 14,
   "metadata": {},
   "outputs": [],
   "source": [
    "exp_result = job_exp.result()\n",
    "counts = exp_result.get_counts(qc4)\n",
    "p.append(counts['00']/1024)\n",
    "q.append(counts['01']/1024)\n",
    "s.append(counts['10']/1024)\n",
    "r.append(counts['11']/1024)"
   ]
  },
  {
   "cell_type": "code",
   "execution_count": 15,
   "metadata": {},
   "outputs": [
    {
     "name": "stdout",
     "output_type": "stream",
     "text": [
      "Job Status: job has successfully run\n"
     ]
    }
   ],
   "source": [
    "qc5=QuantumCircuit(qr,anci,cr)\n",
    "circuit(a4,qc5)\n",
    "job_exp = execute(qc5, backend=backend, shots=1024)\n",
    "\n",
    "from qiskit.tools.monitor import job_monitor\n",
    "job_monitor(job_exp) "
   ]
  },
  {
   "cell_type": "code",
   "execution_count": 16,
   "metadata": {},
   "outputs": [],
   "source": [
    "exp_result = job_exp.result()\n",
    "counts = exp_result.get_counts(qc5)\n",
    "p.append(counts['00']/1024)\n",
    "q.append(counts['01']/1024)\n",
    "s.append(counts['10']/1024)\n",
    "r.append(counts['11']/1024)"
   ]
  },
  {
   "cell_type": "code",
   "execution_count": 17,
   "metadata": {},
   "outputs": [
    {
     "data": {
      "text/plain": [
       "<matplotlib.legend.Legend at 0x7f47eb896820>"
      ]
     },
     "execution_count": 17,
     "metadata": {},
     "output_type": "execute_result"
    },
    {
     "data": {
      "image/png": "[encoded data removed]",
      "text/plain": [
       "<Figure size 432x288 with 1 Axes>"
      ]
     },
     "metadata": {
      "needs_background": "light"
     },
     "output_type": "display_data"
    }
   ],
   "source": [
    "plot(t,p,label='00')\n",
    "plot(t,q,label='01')\n",
    "plot(t,r,label='10')\n",
    "plot(t,s,label='11')\n",
    "xlabel('time (s)')\n",
    "ylabel('probability')\n",
    "legend()"
   ]
  },
  {
   "cell_type": "code",
   "execution_count": 18,
   "metadata": {},
   "outputs": [],
   "source": [
    "t=arange(0,0.005,0.0005)\n",
    "w=1\n",
    "phi=0\n",
    "m=1\n",
    "def f(t):\n",
    "    A=1\n",
    "    return((A*cos(w*t + phi))/sqrt(2*m)) \n",
    "\n",
    "p=[]\n",
    "q=[]\n",
    "r=[]\n",
    "s=[]\n",
    "theta=[b*f(b) for b in t]\n",
    "qc=QuantumCircuit(qr,anci,cr)"
   ]
  },
  {
   "cell_type": "code",
   "execution_count": 20,
   "metadata": {},
   "outputs": [],
   "source": [
    "for a in theta:\n",
    "    circuit(a,qc)\n",
    "    job=execute(qc,backend,shots=100)\n",
    "    results=job.result()\n",
    "    counts=results.get_counts()\n",
    "    p.append(counts['00']/100)\n",
    "    q.append(counts['01']/100)\n",
    "    s.append(counts['10']/100)\n",
    "    r.append(counts['11']/100)\n",
    "    qc.reset(qr)\n",
    "    qc.reset(anci)"
   ]
  },
  {
   "cell_type": "code",
   "execution_count": 21,
   "metadata": {},
   "outputs": [
    {
     "data": {
      "text/plain": [
       "<matplotlib.legend.Legend at 0x7f47eb7abf40>"
      ]
     },
     "execution_count": 21,
     "metadata": {},
     "output_type": "execute_result"
    },
    {
     "data": {
      "image/png": "[encoded data removed]",
      "text/plain": [
       "<Figure size 432x288 with 1 Axes>"
      ]
     },
     "metadata": {
      "needs_background": "light"
     },
     "output_type": "display_data"
    }
   ],
   "source": [
    "plot(t,p,label='00')\n",
    "plot(t,q,label='01')\n",
    "plot(t,r,label='10')\n",
    "plot(t,s,label='11')\n",
    "xlabel('time (s)')\n",
    "ylabel('probability')\n",
    "legend()"
   ]
  },
  {
   "cell_type": "code",
   "execution_count": 5,
   "metadata": {},
   "outputs": [],
   "source": [
    "t=arange(0,0.005,0.0001)\n",
    "w=1\n",
    "phi=0\n",
    "m=1\n",
    "def f(t):\n",
    "    A=1\n",
    "    return((A*cos(w*t + phi))/sqrt(2*m)) \n",
    "\n",
    "p=[]\n",
    "q=[]\n",
    "r=[]\n",
    "s=[]\n",
    "theta=[b*f(b) for b in t]\n",
    "qc=QuantumCircuit(qr,anci,cr)"
   ]
  },
  {
   "cell_type": "code",
   "execution_count": null,
   "metadata": {},
   "outputs": [],
   "source": [
    "for a in theta:\n",
    "    circuit(a,qc)\n",
    "    job=execute(qc,backend,shots=100)\n",
    "    results=job.result()\n",
    "    counts=results.get_counts()\n",
    "    p.append(counts['00']/100)\n",
    "    q.append(counts['01']/100)\n",
    "    s.append(counts['10']/100)\n",
    "    r.append(counts['11']/100)\n",
    "    qc.reset(qr)\n",
    "    qc.reset(anci)"
   ]
  },
  {
   "cell_type": "code",
   "execution_count": null,
   "metadata": {},
   "outputs": [],
   "source": [
    "plot(t,p,label='00')\n",
    "plot(t,q,label='01')\n",
    "plot(t,r,label='10')\n",
    "plot(t,s,label='11')\n",
    "xlabel('time (s)')\n",
    "ylabel('probability')\n",
    "legend()"
   ]
  },
  {
   "cell_type": "code",
   "execution_count": null,
   "metadata": {},
   "outputs": [],
   "source": []
  }
 ],
 "metadata": {
  "kernelspec": {
   "display_name": "Python 3",
   "language": "python",
   "name": "python3"
  },
  "language_info": {
   "codemirror_mode": {
    "name": "ipython",
    "version": 3
   },
   "file_extension": ".py",
   "mimetype": "text/x-python",
   "name": "python",
   "nbconvert_exporter": "python",
   "pygments_lexer": "ipython3",
   "version": "3.7.7"
  }
 },
 "nbformat": 4,
 "nbformat_minor": 4
}
