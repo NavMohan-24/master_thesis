{
 "cells": [
  {
   "cell_type": "code",
   "execution_count": 1,
   "id": "committed-franklin",
   "metadata": {},
   "outputs": [],
   "source": [
    "from qiskit import*\n",
    "from qiskit.tools.visualization import*\n",
    "from numpy import*\n",
    "from matplotlib.pyplot import*"
   ]
  },
  {
   "cell_type": "code",
   "execution_count": 7,
   "id": "rotary-freeware",
   "metadata": {},
   "outputs": [],
   "source": [
    "m12=7.39*10**-5\n",
    "m13=2.525*10**-3\n",
    "m23=m13\n",
    "th12=0.5902\n",
    "th23=0.8656\n",
    "th13=0.1502\n",
    "LE=linspace(0,1000,11)#(L/Elib.pyplot import*"
   ]
  },
  {
   "cell_type": "code",
   "execution_count": null,
   "id": "identical-beatles",
   "metadata": {},
   "outputs": [],
   "source": [
    "muon_counts=[]\n",
    "electron_counts=[]\n",
    "tau_counts=[]"
   ]
  },
  {
   "cell_type": "code",
   "execution_count": null,
   "id": "stuck-trust",
   "metadata": {},
   "outputs": [],
   "source": [
    "def phi_1(E):\n",
    "    return(2*(1.27*m12*E))\n",
    "def phi_2(E):\n",
    "    return(2*(1.27*m13*E))\n",
    "def prob_t(E):\n",
    "    return((cos(th13)**2)*((sin(2*th23))**2)*(sin(1.27*m23*E))**2)\n",
    "def prob_e(E):\n",
    "    return((sin(2*th13)**2)*((sin(th23))**2)*(sin(1.27*m23*E))**2) \n",
    "def prob_m(E):\n",
    "    return(1-(cos(th13)**2)*((sin(2*th23))**2)*((sin(1.27*m23*E))**2)-(sin(2*th13)**2)*((sin(th23))**2)*(sin(1.27*m23*E))**2)"
   ]
  },
  {
   "cell_type": "code",
   "execution_count": null,
   "id": "apparent-joining",
   "metadata": {},
   "outputs": [],
   "source": [
    "alpha=-0.6031\n",
    "beta=-2.0125\n",
    "gamma=0.7966\n",
    "delta=1.0139\n",
    "eps=0.7053\n",
    "zeta=1.3599"
   ]
  },
  {
   "cell_type": "code",
   "execution_count": null,
   "id": "disturbed-apparel",
   "metadata": {},
   "outputs": [],
   "source": [
    "PMNS=QuantumCircuit(2,name='PMNS')\n",
    "PMNS.u(-1*alpha,0,0,0)\n",
    "PMNS.u(-1*beta,0,0,1)\n",
    "PMNS.cx(1,0)\n",
    "PMNS.u(-1*gamma,0,0,0)\n",
    "PMNS.u(-1*delta,0,0,1)\n",
    "PMNS.cx(1,0)\n",
    "PMNS.u(-1*eps,0,0,0)\n",
    "PMNS.u(-1*zeta,0,0,1)\n",
    "PMNS.to_gate()"
   ]
  },
  {
   "cell_type": "code",
   "execution_count": null,
   "id": "compound-trustee",
   "metadata": {},
   "outputs": [],
   "source": [
    "PMNSd=QuantumCircuit(2,name='PMNSd')\n",
    "PMNSd.u(eps,0,0,0)\n",
    "PMNSd.u(zeta,0,0,1)\n",
    "PMNSd.cx(1,0)\n",
    "PMNSd.u(gamma,0,0,0)\n",
    "PMNSd.u(delta,0,0,1)\n",
    "PMNSd.cx(1,0)\n",
    "PMNSd.u(alpha,0,0,0)\n",
    "PMNSd.u(beta,0,0,1)\n",
    "PMNSd.to_gate()"
   ]
  },
  {
   "cell_type": "code",
   "execution_count": null,
   "id": "municipal-arrow",
   "metadata": {},
   "outputs": [],
   "source": [
    "IBMQ.load_account()\n",
    "provider=IBMQ.get_provider(hub='ibm-q')\n",
    "backend=provider.get_backend('ibmq-')"
   ]
  },
  {
   "cell_type": "code",
   "execution_count": null,
   "id": "continuous-essence",
   "metadata": {},
   "outputs": [],
   "source": [
    "qr=QuantumRegister(2)\n",
    "cr=ClassicalRegister(2)\n",
    "qc=QuantumCircuit(qr,cr)\n",
    "\n",
    "E=LE[0]\n",
    "\n",
    "p=phi_1(E)\n",
    "q=phi_2(E)\n",
    "qc.x(qr[1])\n",
    "qc.append(PMNSd,[0,1])\n",
    "qc.u(0,0,q,[0])\n",
    "qc.u(0,0,p,qr[1])\n",
    "qc.append(PMNS,[0,1])\n",
    "qc.measure(qr[0],cr[0])\n",
    "qc.measure(qr[1],cr[1])\n",
    "counts=execute(qc,backend,shots=1024).result().get_counts()\n",
    "electron_counts.append(counts.get('11',0)/1024)\n",
    "muon_counts.append(counts.get('10',0)/1024)\n",
    "tau_counts.append(counts.get('01',0)/1024)\n"
   ]
  },
  {
   "cell_type": "code",
   "execution_count": null,
   "id": "emotional-sentence",
   "metadata": {},
   "outputs": [],
   "source": [
    "qr=QuantumRegister(2)\n",
    "cr=ClassicalRegister(2)\n",
    "qc=QuantumCircuit(qr,cr)\n",
    "\n",
    "E=LE[1]\n",
    "\n",
    "p=phi_1(E)\n",
    "q=phi_2(E)\n",
    "qc.x(qr[1])\n",
    "qc.append(PMNSd,[0,1])\n",
    "qc.u(0,0,q,[0])\n",
    "qc.u(0,0,p,qr[1])\n",
    "qc.append(PMNS,[0,1])\n",
    "qc.measure(qr[0],cr[0])\n",
    "qc.measure(qr[1],cr[1])\n",
    "counts=execute(qc,backend,shots=1024).result().get_counts()\n",
    "electron_counts.append(counts.get('11',0)/1024)\n",
    "muon_counts.append(counts.get('10',0)/1024)\n",
    "tau_counts.append(counts.get('01',0)/1024)"
   ]
  },
  {
   "cell_type": "code",
   "execution_count": null,
   "id": "injured-genetics",
   "metadata": {},
   "outputs": [],
   "source": [
    "qr=QuantumRegister(2)\n",
    "cr=ClassicalRegister(2)\n",
    "qc=QuantumCircuit(qr,cr)\n",
    "\n",
    "E=LE[2]\n",
    "\n",
    "p=phi_1(E)\n",
    "q=phi_2(E)\n",
    "qc.x(qr[1])\n",
    "qc.append(PMNSd,[0,1])\n",
    "qc.u(0,0,q,[0])\n",
    "qc.u(0,0,p,qr[1])\n",
    "qc.append(PMNS,[0,1])\n",
    "qc.measure(qr[0],cr[0])\n",
    "qc.measure(qr[1],cr[1])\n",
    "counts=execute(qc,backend,shots=1024).result().get_counts()\n",
    "electron_counts.append(counts.get('11',0)/1024)\n",
    "muon_counts.append(counts.get('10',0)/1024)\n",
    "tau_counts.append(counts.get('01',0)/1024)"
   ]
  },
  {
   "cell_type": "code",
   "execution_count": null,
   "id": "following-trailer",
   "metadata": {},
   "outputs": [],
   "source": [
    "qr=QuantumRegister(2)\n",
    "cr=ClassicalRegister(2)\n",
    "qc=QuantumCircuit(qr,cr)\n",
    "\n",
    "E=LE[3]\n",
    "\n",
    "p=phi_1(E)\n",
    "q=phi_2(E)\n",
    "qc.x(qr[1])\n",
    "qc.append(PMNSd,[0,1])\n",
    "qc.u(0,0,q,[0])\n",
    "qc.u(0,0,p,qr[1])\n",
    "qc.append(PMNS,[0,1])\n",
    "qc.measure(qr[0],cr[0])\n",
    "qc.measure(qr[1],cr[1])\n",
    "counts=execute(qc,backend,shots=1024).result().get_counts()\n",
    "electron_counts.append(counts.get('11',0)/1024)\n",
    "muon_counts.append(counts.get('10',0)/1024)\n",
    "tau_counts.append(counts.get('01',0)/1024)"
   ]
  },
  {
   "cell_type": "code",
   "execution_count": null,
   "id": "accurate-demand",
   "metadata": {},
   "outputs": [],
   "source": [
    "qr=QuantumRegister(2)\n",
    "cr=ClassicalRegister(2)\n",
    "qc=QuantumCircuit(qr,cr)\n",
    "\n",
    "E=LE[4]\n",
    "\n",
    "p=phi_1(E)\n",
    "q=phi_2(E)\n",
    "qc.x(qr[1])\n",
    "qc.append(PMNSd,[0,1])\n",
    "qc.u(0,0,q,[0])\n",
    "qc.u(0,0,p,qr[1])\n",
    "qc.append(PMNS,[0,1])\n",
    "qc.measure(qr[0],cr[0])\n",
    "qc.measure(qr[1],cr[1])\n",
    "counts=execute(qc,backend,shots=1024).result().get_counts()\n",
    "electron_counts.append(counts.get('11',0)/1024)\n",
    "muon_counts.append(counts.get('10',0)/1024)\n",
    "tau_counts.append(counts.get('01',0)/1024)"
   ]
  },
  {
   "cell_type": "code",
   "execution_count": null,
   "id": "declared-chick",
   "metadata": {},
   "outputs": [],
   "source": [
    "qr=QuantumRegister(2)\n",
    "cr=ClassicalRegister(2)\n",
    "qc=QuantumCircuit(qr,cr)\n",
    "\n",
    "E=LE[5]\n",
    "\n",
    "p=phi_1(E)\n",
    "q=phi_2(E)\n",
    "qc.x(qr[1])\n",
    "qc.append(PMNSd,[0,1])\n",
    "qc.u(0,0,q,[0])\n",
    "qc.u(0,0,p,qr[1])\n",
    "qc.append(PMNS,[0,1])\n",
    "qc.measure(qr[0],cr[0])\n",
    "qc.measure(qr[1],cr[1])\n",
    "counts=execute(qc,backend,shots=1024).result().get_counts()\n",
    "electron_counts.append(counts.get('11',0)/1024)\n",
    "muon_counts.append(counts.get('10',0)/1024)\n",
    "tau_counts.append(counts.get('01',0)/1024)"
   ]
  },
  {
   "cell_type": "code",
   "execution_count": null,
   "id": "correct-correlation",
   "metadata": {},
   "outputs": [],
   "source": [
    "qr=QuantumRegister(2)\n",
    "cr=ClassicalRegister(2)\n",
    "qc=QuantumCircuit(qr,cr)\n",
    "\n",
    "E=LE[6]\n",
    "\n",
    "p=phi_1(E)\n",
    "q=phi_2(E)\n",
    "qc.x(qr[1])\n",
    "qc.append(PMNSd,[0,1])\n",
    "qc.u(0,0,q,[0])\n",
    "qc.u(0,0,p,qr[1])\n",
    "qc.append(PMNS,[0,1])\n",
    "qc.measure(qr[0],cr[0])\n",
    "qc.measure(qr[1],cr[1])\n",
    "counts=execute(qc,backend,shots=1024).result().get_counts()\n",
    "electron_counts.append(counts.get('11',0)/1024)\n",
    "muon_counts.append(counts.get('10',0)/1024)\n",
    "tau_counts.append(counts.get('01',0)/1024)"
   ]
  },
  {
   "cell_type": "code",
   "execution_count": null,
   "id": "faced-prairie",
   "metadata": {},
   "outputs": [],
   "source": [
    "qr=QuantumRegister(2)\n",
    "cr=ClassicalRegister(2)\n",
    "qc=QuantumCircuit(qr,cr)\n",
    "\n",
    "E=LE[7]\n",
    "\n",
    "p=phi_1(E)\n",
    "q=phi_2(E)\n",
    "qc.x(qr[1])\n",
    "qc.append(PMNSd,[0,1])\n",
    "qc.u(0,0,q,[0])\n",
    "qc.u(0,0,p,qr[1])\n",
    "qc.append(PMNS,[0,1])\n",
    "qc.measure(qr[0],cr[0])\n",
    "qc.measure(qr[1],cr[1])\n",
    "counts=execute(qc,backend,shots=1024).result().get_counts()\n",
    "electron_counts.append(counts.get('11',0)/1024)\n",
    "muon_counts.append(counts.get('10',0)/1024)\n",
    "tau_counts.append(counts.get('01',0)/1024)"
   ]
  },
  {
   "cell_type": "code",
   "execution_count": null,
   "id": "fifty-youth",
   "metadata": {},
   "outputs": [],
   "source": [
    "qr=QuantumRegister(2)\n",
    "cr=ClassicalRegister(2)\n",
    "qc=QuantumCircuit(qr,cr)\n",
    "\n",
    "E=LE[8]\n",
    "\n",
    "p=phi_1(E)\n",
    "q=phi_2(E)\n",
    "qc.x(qr[1])\n",
    "qc.append(PMNSd,[0,1])\n",
    "qc.u(0,0,q,[0])\n",
    "qc.u(0,0,p,qr[1])\n",
    "qc.append(PMNS,[0,1])\n",
    "qc.measure(qr[0],cr[0])\n",
    "qc.measure(qr[1],cr[1])\n",
    "counts=execute(qc,backend,shots=1024).result().get_counts()\n",
    "electron_counts.append(counts.get('11',0)/1024)\n",
    "muon_counts.append(counts.get('10',0)/1024)\n",
    "tau_counts.append(counts.get('01',0)/1024)"
   ]
  },
  {
   "cell_type": "code",
   "execution_count": null,
   "id": "continuing-public",
   "metadata": {},
   "outputs": [],
   "source": [
    "qr=QuantumRegister(2)\n",
    "cr=ClassicalRegister(2)\n",
    "qc=QuantumCircuit(qr,cr)\n",
    "\n",
    "E=LE[9]\n",
    "\n",
    "p=phi_1(E)\n",
    "q=phi_2(E)\n",
    "qc.x(qr[1])\n",
    "qc.append(PMNSd,[0,1])\n",
    "qc.u(0,0,q,[0])\n",
    "qc.u(0,0,p,qr[1])\n",
    "qc.append(PMNS,[0,1])\n",
    "qc.measure(qr[0],cr[0])\n",
    "qc.measure(qr[1],cr[1])\n",
    "counts=execute(qc,backend,shots=1024).result().get_counts()\n",
    "electron_counts.append(counts.get('11',0)/1024)\n",
    "muon_counts.append(counts.get('10',0)/1024)\n",
    "tau_counts.append(counts.get('01',0)/1024)"
   ]
  },
  {
   "cell_type": "code",
   "execution_count": null,
   "id": "mineral-contrast",
   "metadata": {},
   "outputs": [],
   "source": [
    "qr=QuantumRegister(2)\n",
    "cr=ClassicalRegister(2)\n",
    "qc=QuantumCircuit(qr,cr)\n",
    "\n",
    "E=LE[10]\n",
    "\n",
    "p=phi_1(E)\n",
    "q=phi_2(E)\n",
    "qc.x(qr[1])\n",
    "qc.append(PMNSd,[0,1])\n",
    "qc.u(0,0,q,[0])\n",
    "qc.u(0,0,p,qr[1])\n",
    "qc.append(PMNS,[0,1])\n",
    "qc.measure(qr[0],cr[0])\n",
    "qc.measure(qr[1],cr[1])\n",
    "counts=execute(qc,backend,shots=1024).result().get_counts()\n",
    "electron_counts.append(counts.get('11',0)/1024)\n",
    "muon_counts.append(counts.get('10',0)/1024)\n",
    "tau_counts.append(counts.get('01',0)/1024)"
   ]
  },
  {
   "cell_type": "code",
   "execution_count": null,
   "id": "flying-cooler",
   "metadata": {},
   "outputs": [],
   "source": [
    "print(electron_counts)\n",
    "print(muon_counts)\n",
    "print(tau_counts)"
   ]
  },
  {
   "cell_type": "code",
   "execution_count": null,
   "id": "injured-stanford",
   "metadata": {},
   "outputs": [],
   "source": [
    "savetext(\"elec.csv\",electron_counts,delimiter =\", \", \n",
    "           fmt ='% s')\n",
    "savetext(\"muon.csv\",muon_counts,delimiter =\", \", \n",
    "           fmt ='% s')\n",
    "savetext(\"tau.csv\",tau_counts,delimiter =\", \", \n",
    "           fmt ='% s')"
   ]
  },
  {
   "cell_type": "code",
   "execution_count": null,
   "id": "ranking-annual",
   "metadata": {},
   "outputs": [],
   "source": []
  }
 ],
 "metadata": {
  "kernelspec": {
   "display_name": "Python 3",
   "language": "python",
   "name": "python3"
  },
  "language_info": {
   "codemirror_mode": {
    "name": "ipython",
    "version": 3
   },
   "file_extension": ".py",
   "mimetype": "text/x-python",
   "name": "python",
   "nbconvert_exporter": "python",
   "pygments_lexer": "ipython3",
   "version": "3.7.7"
  }
 },
 "nbformat": 4,
 "nbformat_minor": 5
}
