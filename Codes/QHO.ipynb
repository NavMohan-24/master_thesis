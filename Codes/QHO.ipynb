{
 "cells": [
  {
   "cell_type": "code",
   "execution_count": 1,
   "id": "intermediate-westminster",
   "metadata": {},
   "outputs": [],
   "source": [
    "from qiskit import*\n",
    "from qiskit.tools.visualization import*\n",
    "from numpy import*\n",
    "from matplotlib.pyplot import*"
   ]
  },
  {
   "cell_type": "code",
   "execution_count": 2,
   "id": "listed-decade",
   "metadata": {},
   "outputs": [],
   "source": [
    "qr=QuantumRegister(2,name='qr')\n",
    "anci=QuantumRegister(3,name='anci')\n",
    "cr=ClassicalRegister(2,name='cr')\n"
   ]
  },
  {
   "cell_type": "code",
   "execution_count": 15,
   "id": "civilian-creativity",
   "metadata": {},
   "outputs": [],
   "source": [
    "qc=QuantumCircuit(qr,anci,cr)\n",
    "backend=BasicAer.get_backend('qasm_simulator')\n",
    "def circuit(a):\n",
    "    qc.cx(qr[0],anci[0])\n",
    "    qc.x(anci[0])\n",
    "    qc.cu(a,-pi/2,pi/2,0,anci[0],qr[0])\n",
    "    qc.x(anci[0])\n",
    "    qc.cx(anci[0],qr[0])\n",
    "    qc.cx(qr[0],anci[2])\n",
    "    qc.x(anci[2])\n",
    "    qc.h(anci[2])\n",
    "    qc.h(qr[1])\n",
    "    qc.cx(qr[1],anci[2])\n",
    "    qc.h(qr[1])\n",
    "    qc.h(anci[2])\n",
    "    qc.x(anci[2])\n",
    "    qc.x(anci[0])\n",
    "    qc.cu(a,-pi/2,pi/2,0,anci[0],qr[1])\n",
    "    qc.x(anci[0])\n",
    "    qc.cx(qr[0],qr[1])\n",
    "    qc.h(anci[2])\n",
    "    qc.cx(anci[2],qr[1])\n",
    "    qc.cx(anci[2],qr[0])\n",
    "    qc.h(anci[2])\n",
    "    qc.ch(anci[2],qr[0])\n",
    "    qc.barrier()\n",
    "    qc.measure(0,0)\n",
    "    qc.measure(1,1)\n",
    "    \n",
    "#qc.draw(output='mpl')"
   ]
  },
  {
   "cell_type": "code",
   "execution_count": 14,
   "id": "thousand-header",
   "metadata": {},
   "outputs": [
    {
     "data": {
      "text/html": [
       "<pre style=\"word-wrap: normal;white-space: pre;background: #fff0;line-height: 1.1;font-family: &quot;Courier New&quot;,Courier,monospace\">                  ┌───────────────────┐     ┌───┐                         »\n",
       "  qr_0: ──■───────┤ U(0.3,-π/2,π/2,0) ├─────┤ X ├──■──────────────────────»\n",
       "          │  ┌───┐└─────────┬─────────┘     └─┬─┘  │                 ┌───┐»\n",
       "  qr_1: ──┼──┤ H ├──────────┼─────────────────┼────┼──────────────■──┤ H ├»\n",
       "        ┌─┴─┐├───┤          │          ┌───┐  │    │  ┌───┐       │  └───┘»\n",
       "anci_0: ┤ X ├┤ X ├──────────■──────────┤ X ├──■────┼──┤ X ├───────┼───────»\n",
       "        └───┘└───┘                     └───┘       │  └───┘       │       »\n",
       "anci_1: ───────────────────────────────────────────┼──────────────┼───────»\n",
       "                                                 ┌─┴─┐┌───┐┌───┐┌─┴─┐┌───┐»\n",
       "anci_2: ─────────────────────────────────────────┤ X ├┤ X ├┤ H ├┤ X ├┤ H ├»\n",
       "                                                 └───┘└───┘└───┘└───┘└───┘»\n",
       "  cr: 2/══════════════════════════════════════════════════════════════════»\n",
       "                                                                          »\n",
       "«                                       ┌───┐     ┌───┐ ░ ┌─┐   \n",
       "«  qr_0: ───────────────────────■───────┤ X ├─────┤ H ├─░─┤M├───\n",
       "«        ┌───────────────────┐┌─┴─┐┌───┐└─┬─┘     └─┬─┘ ░ └╥┘┌─┐\n",
       "«  qr_1: ┤ U(0.3,-π/2,π/2,0) ├┤ X ├┤ X ├──┼─────────┼───░──╫─┤M├\n",
       "«        └─────────┬─────────┘├───┤└─┬─┘  │         │   ░  ║ └╥┘\n",
       "«anci_0: ──────────■──────────┤ X ├──┼────┼─────────┼───░──╫──╫─\n",
       "«                             └───┘  │    │         │   ░  ║  ║ \n",
       "«anci_1: ────────────────────────────┼────┼─────────┼───░──╫──╫─\n",
       "«                ┌───┐        ┌───┐  │    │  ┌───┐  │   ░  ║  ║ \n",
       "«anci_2: ────────┤ X ├────────┤ H ├──■────■──┤ H ├──■───░──╫──╫─\n",
       "«                └───┘        └───┘          └───┘      ░  ║  ║ \n",
       "«  cr: 2/══════════════════════════════════════════════════╩══╩═\n",
       "«                                                          0  1 </pre>"
      ],
      "text/plain": [
       "                  ┌───────────────────┐     ┌───┐                         »\n",
       "  qr_0: ──■───────┤ U(0.3,-π/2,π/2,0) ├─────┤ X ├──■──────────────────────»\n",
       "          │  ┌───┐└─────────┬─────────┘     └─┬─┘  │                 ┌───┐»\n",
       "  qr_1: ──┼──┤ H ├──────────┼─────────────────┼────┼──────────────■──┤ H ├»\n",
       "        ┌─┴─┐├───┤          │          ┌───┐  │    │  ┌───┐       │  └───┘»\n",
       "anci_0: ┤ X ├┤ X ├──────────■──────────┤ X ├──■────┼──┤ X ├───────┼───────»\n",
       "        └───┘└───┘                     └───┘       │  └───┘       │       »\n",
       "anci_1: ───────────────────────────────────────────┼──────────────┼───────»\n",
       "                                                 ┌─┴─┐┌───┐┌───┐┌─┴─┐┌───┐»\n",
       "anci_2: ─────────────────────────────────────────┤ X ├┤ X ├┤ H ├┤ X ├┤ H ├»\n",
       "                                                 └───┘└───┘└───┘└───┘└───┘»\n",
       "  cr: 2/══════════════════════════════════════════════════════════════════»\n",
       "                                                                          »\n",
       "«                                       ┌───┐     ┌───┐ ░ ┌─┐   \n",
       "«  qr_0: ───────────────────────■───────┤ X ├─────┤ H ├─░─┤M├───\n",
       "«        ┌───────────────────┐┌─┴─┐┌───┐└─┬─┘     └─┬─┘ ░ └╥┘┌─┐\n",
       "«  qr_1: ┤ U(0.3,-π/2,π/2,0) ├┤ X ├┤ X ├──┼─────────┼───░──╫─┤M├\n",
       "«        └─────────┬─────────┘├───┤└─┬─┘  │         │   ░  ║ └╥┘\n",
       "«anci_0: ──────────■──────────┤ X ├──┼────┼─────────┼───░──╫──╫─\n",
       "«                             └───┘  │    │         │   ░  ║  ║ \n",
       "«anci_1: ────────────────────────────┼────┼─────────┼───░──╫──╫─\n",
       "«                ┌───┐        ┌───┐  │    │  ┌───┐  │   ░  ║  ║ \n",
       "«anci_2: ────────┤ X ├────────┤ H ├──■────■──┤ H ├──■───░──╫──╫─\n",
       "«                └───┘        └───┘          └───┘      ░  ║  ║ \n",
       "«  cr: 2/══════════════════════════════════════════════════╩══╩═\n",
       "«                                                          0  1 "
      ]
     },
     "execution_count": 14,
     "metadata": {},
     "output_type": "execute_result"
    }
   ],
   "source": [
    "circuit(0.3)\n",
    "\n",
    "qc.draw()"
   ]
  },
  {
   "cell_type": "code",
   "execution_count": 4,
   "id": "thermal-preservation",
   "metadata": {},
   "outputs": [
    {
     "name": "stdout",
     "output_type": "stream",
     "text": [
      "[0.    0.001 0.002 0.003 0.004]\n"
     ]
    }
   ],
   "source": [
    "t=arange(0,0.005,0.001)\n",
    "w=1\n",
    "phi=0\n",
    "m=1\n",
    "def f(t):\n",
    "    A=1\n",
    "    return((A*cos(w*t + phi))/sqrt(2*m))\n",
    "print(t)"
   ]
  },
  {
   "cell_type": "code",
   "execution_count": 5,
   "id": "environmental-tutorial",
   "metadata": {},
   "outputs": [
    {
     "data": {
      "text/plain": [
       "<matplotlib.legend.Legend at 0x7f3dd99c6940>"
      ]
     },
     "execution_count": 5,
     "metadata": {},
     "output_type": "execute_result"
    },
    {
     "data": {
      "image/png": "[encoded data removed]",
      "text/plain": [
       "<Figure size 432x288 with 1 Axes>"
      ]
     },
     "metadata": {
      "needs_background": "light"
     },
     "output_type": "display_data"
    }
   ],
   "source": [
    "p=[]\n",
    "q=[]\n",
    "r=[]\n",
    "s=[]\n",
    "theta=[b*f(b) for b in t]\n",
    "\n",
    "for a in theta:\n",
    "    circuit(a)\n",
    "    counts=execute(qc,backend,shots=100).result().get_counts()\n",
    "    p.append(counts['00']/100)\n",
    "    q.append(counts['01']/100)\n",
    "    s.append(counts['10']/100)\n",
    "    r.append(counts['11']/100)\n",
    "    qc.reset(qr)\n",
    "    qc.reset(anci)\n",
    "plot(t,p,label='00')\n",
    "plot(t,q,label='10')\n",
    "plot(t,r,label='10')\n",
    "plot(t,s,label='11')\n",
    "legend()"
   ]
  },
  {
   "cell_type": "code",
   "execution_count": 6,
   "id": "social-parameter",
   "metadata": {},
   "outputs": [],
   "source": [
    "from qiskit import IBMQ"
   ]
  },
  {
   "cell_type": "code",
   "execution_count": 7,
   "id": "white-print",
   "metadata": {},
   "outputs": [
    {
     "name": "stderr",
     "output_type": "stream",
     "text": [
      "configrc.store_credentials:WARNING:2021-02-17 19:25:26,637: Credentials already present. Set overwrite=True to overwrite.\n"
     ]
    }
   ],
   "source": [
    "IBMQ.save_account('6114b45e9dd9c373eb048c896b4eefd4b6e3e483414883c7bede8ecb41fa1e7de10c37d1f9bdea0b9d7be26d52b89adb48ef2c5c5b07afc8d407bea6347d9b28')\n",
    "\n"
   ]
  },
  {
   "cell_type": "code",
   "execution_count": null,
   "id": "amber-angle",
   "metadata": {},
   "outputs": [],
   "source": [
    "overwrite=True"
   ]
  },
  {
   "cell_type": "code",
   "execution_count": 7,
   "id": "political-westminster",
   "metadata": {},
   "outputs": [
    {
     "name": "stderr",
     "output_type": "stream",
     "text": [
      "/home/nav/anaconda3/lib/python3.8/site-packages/qiskit/providers/ibmq/ibmqfactory.py:192: UserWarning: Timestamps in IBMQ backend properties, jobs, and job results are all now in local time instead of UTC.\n",
      "  warnings.warn('Timestamps in IBMQ backend properties, jobs, and job results '\n"
     ]
    },
    {
     "data": {
      "text/plain": [
       "<AccountProvider for IBMQ(hub='ibm-q', group='open', project='main')>"
      ]
     },
     "execution_count": 7,
     "metadata": {},
     "output_type": "execute_result"
    }
   ],
   "source": [
    "IBMQ.load_account()"
   ]
  },
  {
   "cell_type": "code",
   "execution_count": 8,
   "id": "extended-coverage",
   "metadata": {},
   "outputs": [
    {
     "data": {
      "text/plain": [
       "'backend= least_busy(provider.backends(filters=lambda x: x.configuration().n_qubits >= 2 and not x.configuration().simulator and x.status().operational==True))\\nprint(backend)                    '"
      ]
     },
     "execution_count": 8,
     "metadata": {},
     "output_type": "execute_result"
    }
   ],
   "source": [
    "#from qiskit.providers.ibmq import least_busy\n",
    "provider=IBMQ.get_provider(hub='ibm-q')\n",
    "\"\"\"backend= least_busy(provider.backends(filters=lambda x: x.configuration().n_qubits >= 2 and not x.configuration().simulator and x.status().operational==True))\n",
    "print(backend)                    \"\"\""
   ]
  },
  {
   "cell_type": "code",
   "execution_count": 23,
   "id": "korean-sympathy",
   "metadata": {},
   "outputs": [],
   "source": [
    "from qiskit.providers.ibmq import least_busy\n",
    "backend = least_busy(provider.backends(filters=lambda b: b.configuration().n_qubits >= 5 and\n",
    "                                   not b.configuration().simulator and b.status().operational==True))\n",
    "\n"
   ]
  },
  {
   "cell_type": "code",
   "execution_count": 24,
   "id": "gothic-bridges",
   "metadata": {},
   "outputs": [],
   "source": [
    "p=[]\n",
    "q=[]\n",
    "r=[]\n",
    "s=[]\n",
    "a0=theta[0]\n",
    "a1=theta[1]\n",
    "a2=theta[2]\n",
    "a3=theta[3]\n",
    "a4=theta[4]"
   ]
  },
  {
   "cell_type": "code",
   "execution_count": 25,
   "id": "higher-finger",
   "metadata": {},
   "outputs": [
    {
     "name": "stdout",
     "output_type": "stream",
     "text": [
      "Job Status: job has successfully run\n"
     ]
    },
    {
     "name": "stderr",
     "output_type": "stream",
     "text": [
      "account._job_result_object_storage:WARNING:2021-02-17 21:07:33,739: An error occurred while sending download completion acknowledgement: \"HTTPSConnectionPool(host='api.quantum-computing.ibm.com', port=443): Read timed out. (read timeout=None)\"\n"
     ]
    }
   ],
   "source": [
    "circuit(a0)\n",
    "job_exp = execute(qc, backend=backend, shots=1024)\n",
    "\n",
    "from qiskit.tools.monitor import job_monitor\n",
    "job_monitor(job_exp)  # displays job status under cell\n",
    "exp_result = job_exp.result()\n",
    "counts = exp_result.get_counts(qc)\n",
    "p.append(counts['00']/100)\n",
    "q.append(counts['01']/100)\n",
    "s.append(counts['10']/100)\n",
    "r.append(counts['11']/100)"
   ]
  },
  {
   "cell_type": "code",
   "execution_count": 29,
   "id": "informational-harassment",
   "metadata": {},
   "outputs": [
    {
     "name": "stdout",
     "output_type": "stream",
     "text": [
      "[2.8]\n",
      "[2.51]\n",
      "[2.4]\n",
      "[2.53]\n"
     ]
    }
   ],
   "source": [
    "print(p)\n",
    "print(q)\n",
    "print(r)\n",
    "print(s)"
   ]
  },
  {
   "cell_type": "code",
   "execution_count": null,
   "id": "visible-lounge",
   "metadata": {},
   "outputs": [],
   "source": [
    "circuit(a1)\n",
    "job_exp = execute(qc, backend=backend, shots=1024)\n",
    "\n",
    "from qiskit.tools.monitor import job_monitor\n",
    "job_monitor(job_exp)  # displays job status under cell\n",
    "exp_result = job_exp.result()\n",
    "counts = exp_result.get_counts(qc)\n",
    "p.append(counts['00']/100)\n",
    "q.append(counts['01']/100)\n",
    "s.append(counts['10']/100)\n",
    "r.append(counts['11']/100)"
   ]
  },
  {
   "cell_type": "code",
   "execution_count": 39,
   "id": "inappropriate-sellers",
   "metadata": {
    "scrolled": true
   },
   "outputs": [
    {
     "ename": "AttributeError",
     "evalue": "'str' object has no attribute 'properties'",
     "output_type": "error",
     "traceback": [
      "\u001b[0;31m---------------------------------------------------------------------------\u001b[0m",
      "\u001b[0;31mAttributeError\u001b[0m                            Traceback (most recent call last)",
      "\u001b[0;32m<ipython-input-39-5f6cd5bdefdc>\u001b[0m in \u001b[0;36m<module>\u001b[0;34m\u001b[0m\n\u001b[1;32m      1\u001b[0m \u001b[0;32mfor\u001b[0m \u001b[0ma\u001b[0m \u001b[0;32min\u001b[0m \u001b[0mtheta\u001b[0m\u001b[0;34m:\u001b[0m\u001b[0;34m\u001b[0m\u001b[0;34m\u001b[0m\u001b[0m\n\u001b[1;32m      2\u001b[0m     \u001b[0mcircuit\u001b[0m\u001b[0;34m(\u001b[0m\u001b[0ma\u001b[0m\u001b[0;34m)\u001b[0m\u001b[0;34m\u001b[0m\u001b[0;34m\u001b[0m\u001b[0m\n\u001b[0;32m----> 3\u001b[0;31m     \u001b[0mcounts\u001b[0m\u001b[0;34m=\u001b[0m\u001b[0mexecute\u001b[0m\u001b[0;34m(\u001b[0m\u001b[0mqc\u001b[0m\u001b[0;34m,\u001b[0m\u001b[0mbackend\u001b[0m\u001b[0;34m,\u001b[0m\u001b[0mshots\u001b[0m\u001b[0;34m=\u001b[0m\u001b[0;36m100\u001b[0m\u001b[0;34m)\u001b[0m\u001b[0;34m.\u001b[0m\u001b[0mresult\u001b[0m\u001b[0;34m(\u001b[0m\u001b[0;34m)\u001b[0m\u001b[0;34m.\u001b[0m\u001b[0mget_counts\u001b[0m\u001b[0;34m(\u001b[0m\u001b[0;34m)\u001b[0m\u001b[0;34m\u001b[0m\u001b[0;34m\u001b[0m\u001b[0m\n\u001b[0m\u001b[1;32m      4\u001b[0m     \u001b[0mp\u001b[0m\u001b[0;34m.\u001b[0m\u001b[0mappend\u001b[0m\u001b[0;34m(\u001b[0m\u001b[0mcounts\u001b[0m\u001b[0;34m[\u001b[0m\u001b[0;34m'00'\u001b[0m\u001b[0;34m]\u001b[0m\u001b[0;34m/\u001b[0m\u001b[0;36m100\u001b[0m\u001b[0;34m)\u001b[0m\u001b[0;34m\u001b[0m\u001b[0;34m\u001b[0m\u001b[0m\n\u001b[1;32m      5\u001b[0m     \u001b[0mq\u001b[0m\u001b[0;34m.\u001b[0m\u001b[0mappend\u001b[0m\u001b[0;34m(\u001b[0m\u001b[0mcounts\u001b[0m\u001b[0;34m[\u001b[0m\u001b[0;34m'01'\u001b[0m\u001b[0;34m]\u001b[0m\u001b[0;34m/\u001b[0m\u001b[0;36m100\u001b[0m\u001b[0;34m)\u001b[0m\u001b[0;34m\u001b[0m\u001b[0;34m\u001b[0m\u001b[0m\n",
      "\u001b[0;32m~/anaconda3/lib/python3.8/site-packages/qiskit/execute.py\u001b[0m in \u001b[0;36mexecute\u001b[0;34m(experiments, backend, basis_gates, coupling_map, backend_properties, initial_layout, seed_transpiler, optimization_level, pass_manager, qobj_id, qobj_header, shots, memory, max_credits, seed_simulator, default_qubit_los, default_meas_los, schedule_los, meas_level, meas_return, memory_slots, memory_slot_size, rep_time, rep_delay, parameter_binds, schedule_circuit, inst_map, meas_map, scheduling_method, init_qubits, **run_config)\u001b[0m\n\u001b[1;32m    250\u001b[0m     \u001b[0;32melse\u001b[0m\u001b[0;34m:\u001b[0m\u001b[0;34m\u001b[0m\u001b[0;34m\u001b[0m\u001b[0m\n\u001b[1;32m    251\u001b[0m         \u001b[0;31m# transpiling the circuits using given transpile options\u001b[0m\u001b[0;34m\u001b[0m\u001b[0;34m\u001b[0m\u001b[0;34m\u001b[0m\u001b[0m\n\u001b[0;32m--> 252\u001b[0;31m         experiments = transpile(experiments,\n\u001b[0m\u001b[1;32m    253\u001b[0m                                 \u001b[0mbasis_gates\u001b[0m\u001b[0;34m=\u001b[0m\u001b[0mbasis_gates\u001b[0m\u001b[0;34m,\u001b[0m\u001b[0;34m\u001b[0m\u001b[0;34m\u001b[0m\u001b[0m\n\u001b[1;32m    254\u001b[0m                                 \u001b[0mcoupling_map\u001b[0m\u001b[0;34m=\u001b[0m\u001b[0mcoupling_map\u001b[0m\u001b[0;34m,\u001b[0m\u001b[0;34m\u001b[0m\u001b[0;34m\u001b[0m\u001b[0m\n",
      "\u001b[0;32m~/anaconda3/lib/python3.8/site-packages/qiskit/compiler/transpile.py\u001b[0m in \u001b[0;36mtranspile\u001b[0;34m(circuits, backend, basis_gates, coupling_map, backend_properties, initial_layout, layout_method, routing_method, translation_method, scheduling_method, instruction_durations, dt, seed_transpiler, optimization_level, pass_manager, callback, output_name)\u001b[0m\n\u001b[1;32m    231\u001b[0m \u001b[0;34m\u001b[0m\u001b[0m\n\u001b[1;32m    232\u001b[0m     \u001b[0;31m# Get transpile_args to configure the circuit transpilation job(s)\u001b[0m\u001b[0;34m\u001b[0m\u001b[0;34m\u001b[0m\u001b[0;34m\u001b[0m\u001b[0m\n\u001b[0;32m--> 233\u001b[0;31m     transpile_args = _parse_transpile_args(circuits, backend, basis_gates, coupling_map,\n\u001b[0m\u001b[1;32m    234\u001b[0m                                            \u001b[0mbackend_properties\u001b[0m\u001b[0;34m,\u001b[0m \u001b[0minitial_layout\u001b[0m\u001b[0;34m,\u001b[0m\u001b[0;34m\u001b[0m\u001b[0;34m\u001b[0m\u001b[0m\n\u001b[1;32m    235\u001b[0m                                            \u001b[0mlayout_method\u001b[0m\u001b[0;34m,\u001b[0m \u001b[0mrouting_method\u001b[0m\u001b[0;34m,\u001b[0m \u001b[0mtranslation_method\u001b[0m\u001b[0;34m,\u001b[0m\u001b[0;34m\u001b[0m\u001b[0;34m\u001b[0m\u001b[0m\n",
      "\u001b[0;32m~/anaconda3/lib/python3.8/site-packages/qiskit/compiler/transpile.py\u001b[0m in \u001b[0;36m_parse_transpile_args\u001b[0;34m(circuits, backend, basis_gates, coupling_map, backend_properties, initial_layout, layout_method, routing_method, translation_method, scheduling_method, instruction_durations, dt, seed_transpiler, optimization_level, callback, output_name)\u001b[0m\n\u001b[1;32m    413\u001b[0m \u001b[0;34m\u001b[0m\u001b[0m\n\u001b[1;32m    414\u001b[0m     \u001b[0mbasis_gates\u001b[0m \u001b[0;34m=\u001b[0m \u001b[0m_parse_basis_gates\u001b[0m\u001b[0;34m(\u001b[0m\u001b[0mbasis_gates\u001b[0m\u001b[0;34m,\u001b[0m \u001b[0mbackend\u001b[0m\u001b[0;34m,\u001b[0m \u001b[0mcircuits\u001b[0m\u001b[0;34m)\u001b[0m\u001b[0;34m\u001b[0m\u001b[0;34m\u001b[0m\u001b[0m\n\u001b[0;32m--> 415\u001b[0;31m     \u001b[0mfaulty_qubits_map\u001b[0m \u001b[0;34m=\u001b[0m \u001b[0m_parse_faulty_qubits_map\u001b[0m\u001b[0;34m(\u001b[0m\u001b[0mbackend\u001b[0m\u001b[0;34m,\u001b[0m \u001b[0mnum_circuits\u001b[0m\u001b[0;34m)\u001b[0m\u001b[0;34m\u001b[0m\u001b[0;34m\u001b[0m\u001b[0m\n\u001b[0m\u001b[1;32m    416\u001b[0m     \u001b[0mcoupling_map\u001b[0m \u001b[0;34m=\u001b[0m \u001b[0m_parse_coupling_map\u001b[0m\u001b[0;34m(\u001b[0m\u001b[0mcoupling_map\u001b[0m\u001b[0;34m,\u001b[0m \u001b[0mbackend\u001b[0m\u001b[0;34m,\u001b[0m \u001b[0mnum_circuits\u001b[0m\u001b[0;34m)\u001b[0m\u001b[0;34m\u001b[0m\u001b[0;34m\u001b[0m\u001b[0m\n\u001b[1;32m    417\u001b[0m     \u001b[0mbackend_properties\u001b[0m \u001b[0;34m=\u001b[0m \u001b[0m_parse_backend_properties\u001b[0m\u001b[0;34m(\u001b[0m\u001b[0mbackend_properties\u001b[0m\u001b[0;34m,\u001b[0m \u001b[0mbackend\u001b[0m\u001b[0;34m,\u001b[0m \u001b[0mnum_circuits\u001b[0m\u001b[0;34m)\u001b[0m\u001b[0;34m\u001b[0m\u001b[0;34m\u001b[0m\u001b[0m\n",
      "\u001b[0;32m~/anaconda3/lib/python3.8/site-packages/qiskit/compiler/transpile.py\u001b[0m in \u001b[0;36m_parse_faulty_qubits_map\u001b[0;34m(backend, num_circuits)\u001b[0m\n\u001b[1;32m    686\u001b[0m         \u001b[0;32mreturn\u001b[0m \u001b[0;34m[\u001b[0m\u001b[0;32mNone\u001b[0m\u001b[0;34m]\u001b[0m \u001b[0;34m*\u001b[0m \u001b[0mnum_circuits\u001b[0m\u001b[0;34m\u001b[0m\u001b[0;34m\u001b[0m\u001b[0m\n\u001b[1;32m    687\u001b[0m     \u001b[0;32mif\u001b[0m \u001b[0;32mnot\u001b[0m \u001b[0misinstance\u001b[0m\u001b[0;34m(\u001b[0m\u001b[0mbackend\u001b[0m\u001b[0;34m,\u001b[0m \u001b[0mlist\u001b[0m\u001b[0;34m)\u001b[0m\u001b[0;34m:\u001b[0m\u001b[0;34m\u001b[0m\u001b[0;34m\u001b[0m\u001b[0m\n\u001b[0;32m--> 688\u001b[0;31m         \u001b[0;32mreturn\u001b[0m \u001b[0;34m[\u001b[0m\u001b[0m_create_faulty_qubits_map\u001b[0m\u001b[0;34m(\u001b[0m\u001b[0mbackend\u001b[0m\u001b[0;34m)\u001b[0m\u001b[0;34m]\u001b[0m \u001b[0;34m*\u001b[0m \u001b[0mnum_circuits\u001b[0m\u001b[0;34m\u001b[0m\u001b[0;34m\u001b[0m\u001b[0m\n\u001b[0m\u001b[1;32m    689\u001b[0m     \u001b[0mfaulty_qubits_map\u001b[0m \u001b[0;34m=\u001b[0m \u001b[0;34m[\u001b[0m\u001b[0;34m]\u001b[0m\u001b[0;34m\u001b[0m\u001b[0;34m\u001b[0m\u001b[0m\n\u001b[1;32m    690\u001b[0m     \u001b[0;32mfor\u001b[0m \u001b[0ma_backend\u001b[0m \u001b[0;32min\u001b[0m \u001b[0mbackend\u001b[0m\u001b[0;34m:\u001b[0m\u001b[0;34m\u001b[0m\u001b[0;34m\u001b[0m\u001b[0m\n",
      "\u001b[0;32m~/anaconda3/lib/python3.8/site-packages/qiskit/compiler/transpile.py\u001b[0m in \u001b[0;36m_create_faulty_qubits_map\u001b[0;34m(backend)\u001b[0m\n\u001b[1;32m    458\u001b[0m     \u001b[0mfaulty_qubits_map\u001b[0m \u001b[0;34m=\u001b[0m \u001b[0;32mNone\u001b[0m\u001b[0;34m\u001b[0m\u001b[0;34m\u001b[0m\u001b[0m\n\u001b[1;32m    459\u001b[0m     \u001b[0;32mif\u001b[0m \u001b[0mbackend\u001b[0m \u001b[0;32mis\u001b[0m \u001b[0;32mnot\u001b[0m \u001b[0;32mNone\u001b[0m\u001b[0;34m:\u001b[0m\u001b[0;34m\u001b[0m\u001b[0;34m\u001b[0m\u001b[0m\n\u001b[0;32m--> 460\u001b[0;31m         \u001b[0;32mif\u001b[0m \u001b[0mbackend\u001b[0m\u001b[0;34m.\u001b[0m\u001b[0mproperties\u001b[0m\u001b[0;34m(\u001b[0m\u001b[0;34m)\u001b[0m\u001b[0;34m:\u001b[0m\u001b[0;34m\u001b[0m\u001b[0;34m\u001b[0m\u001b[0m\n\u001b[0m\u001b[1;32m    461\u001b[0m             \u001b[0mfaulty_qubits\u001b[0m \u001b[0;34m=\u001b[0m \u001b[0mbackend\u001b[0m\u001b[0;34m.\u001b[0m\u001b[0mproperties\u001b[0m\u001b[0;34m(\u001b[0m\u001b[0;34m)\u001b[0m\u001b[0;34m.\u001b[0m\u001b[0mfaulty_qubits\u001b[0m\u001b[0;34m(\u001b[0m\u001b[0;34m)\u001b[0m\u001b[0;34m\u001b[0m\u001b[0;34m\u001b[0m\u001b[0m\n\u001b[1;32m    462\u001b[0m             \u001b[0mfaulty_edges\u001b[0m \u001b[0;34m=\u001b[0m \u001b[0;34m[\u001b[0m\u001b[0mgates\u001b[0m\u001b[0;34m.\u001b[0m\u001b[0mqubits\u001b[0m \u001b[0;32mfor\u001b[0m \u001b[0mgates\u001b[0m \u001b[0;32min\u001b[0m \u001b[0mbackend\u001b[0m\u001b[0;34m.\u001b[0m\u001b[0mproperties\u001b[0m\u001b[0;34m(\u001b[0m\u001b[0;34m)\u001b[0m\u001b[0;34m.\u001b[0m\u001b[0mfaulty_gates\u001b[0m\u001b[0;34m(\u001b[0m\u001b[0;34m)\u001b[0m\u001b[0;34m]\u001b[0m\u001b[0;34m\u001b[0m\u001b[0;34m\u001b[0m\u001b[0m\n",
      "\u001b[0;31mAttributeError\u001b[0m: 'str' object has no attribute 'properties'"
     ]
    }
   ],
   "source": [
    "circuit(a2)\n",
    "job_exp = execute(qc, backend=backend, shots=1024)\n",
    "\n",
    "from qiskit.tools.monitor import job_monitor\n",
    "job_monitor(job_exp)  # displays job status under cell\n",
    "exp_result = job_exp.result()\n",
    "counts = exp_result.get_counts(qc)\n",
    "p.append(counts['00']/100)\n",
    "q.append(counts['01']/100)\n",
    "s.append(counts['10']/100)\n",
    "r.append(counts['11']/100)"
   ]
  },
  {
   "cell_type": "code",
   "execution_count": null,
   "id": "adopted-taylor",
   "metadata": {},
   "outputs": [],
   "source": []
  }
 ],
 "metadata": {
  "kernelspec": {
   "display_name": "Python 3",
   "language": "python",
   "name": "python3"
  },
  "language_info": {
   "codemirror_mode": {
    "name": "ipython",
    "version": 3
   },
   "file_extension": ".py",
   "mimetype": "text/x-python",
   "name": "python",
   "nbconvert_exporter": "python",
   "pygments_lexer": "ipython3",
   "version": "3.7.7"
  }
 },
 "nbformat": 4,
 "nbformat_minor": 5
}
